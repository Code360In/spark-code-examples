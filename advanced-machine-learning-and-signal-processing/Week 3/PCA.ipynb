{
 "cells": [
  {
   "cell_type": "code",
   "execution_count": null,
   "metadata": {},
   "outputs": [],
   "source": [
    "import math\n",
    "from math import pi, sin\n",
    "\n",
    "import matplotlib.pyplot as plt\n",
    "import numpy as np\n",
    "\n",
    "\n",
    "def corr_vars(start=-10, stop=10, step=0.5, mu=0, sigma=3, func=lambda x: x):\n",
    "    x = np.arange(start, stop, step)\n",
    "\n",
    "    e = np.random.normal(mu, sigma, x.size)\n",
    "\n",
    "    y = np.zeros(x.size)\n",
    "\n",
    "    for ind in range(x.size):\n",
    "        y[ind] = func(x[ind]) + e[ind]\n",
    "\n",
    "    return (x, y)"
   ]
  },
  {
   "cell_type": "code",
   "execution_count": null,
   "metadata": {},
   "outputs": [],
   "source": [
    "np.random.seed(100)\n",
    "\n",
    "# (x1,x2) = corr_vars(start=2, stop=4, step=0.2, sigma=2, func=lambda x: 2*math.sin(x)+x*x)\n",
    "(x1, x2) = corr_vars(\n",
    "    start=2, stop=4, step=0.2, sigma=2, func=lambda x: 2 * math.sin(x)\n",
    ")\n",
    "\n",
    "A = np.column_stack((x1, x2))"
   ]
  },
  {
   "cell_type": "code",
   "execution_count": null,
   "metadata": {},
   "outputs": [],
   "source": [
    "A"
   ]
  },
  {
   "cell_type": "code",
   "execution_count": null,
   "metadata": {},
   "outputs": [],
   "source": [
    "f, ax = plt.subplots(figsize=(10, 10))\n",
    "ax.scatter(A[:, 0], A[:, 1])\n",
    "ax.set_title(\"Original data\")\n",
    "ax.set_aspect(\"equal\")\n",
    "ax.grid(True)\n",
    "\n",
    "plt.xlim([-5, 5])\n",
    "plt.ylim([-4, 4])"
   ]
  },
  {
   "cell_type": "code",
   "execution_count": null,
   "metadata": {},
   "outputs": [],
   "source": [
    "A = A - np.mean(A, axis=0)"
   ]
  },
  {
   "cell_type": "code",
   "execution_count": null,
   "metadata": {},
   "outputs": [],
   "source": [
    "A"
   ]
  },
  {
   "cell_type": "code",
   "execution_count": null,
   "metadata": {},
   "outputs": [],
   "source": [
    "f, ax = plt.subplots(figsize=(10, 10))\n",
    "ax.scatter(A[:, 0], A[:, 1])\n",
    "ax.set_title(\"Centred data\")\n",
    "ax.set_aspect(\"equal\")\n",
    "ax.grid(True)\n",
    "\n",
    "plt.xlim([-5, 5])\n",
    "plt.ylim([-4, 4])"
   ]
  },
  {
   "cell_type": "code",
   "execution_count": null,
   "metadata": {},
   "outputs": [],
   "source": [
    "evecs, eigenvalues, V = np.linalg.svd(A.T, full_matrices=False)"
   ]
  },
  {
   "cell_type": "code",
   "execution_count": null,
   "metadata": {},
   "outputs": [],
   "source": [
    "evecs"
   ]
  },
  {
   "cell_type": "code",
   "execution_count": null,
   "metadata": {},
   "outputs": [],
   "source": [
    "eigenvalues"
   ]
  },
  {
   "cell_type": "code",
   "execution_count": null,
   "metadata": {},
   "outputs": [],
   "source": [
    "x = []\n",
    "y = []\n",
    "for i in range(-4, 4):\n",
    "    x.append(i)\n",
    "    y.append(evecs[1, 1] * i / evecs[0, 1])"
   ]
  },
  {
   "cell_type": "code",
   "execution_count": null,
   "metadata": {},
   "outputs": [],
   "source": [
    "f, ax = plt.subplots(figsize=(10, 10))\n",
    "ax.scatter(A[:, 0], A[:, 1])\n",
    "ax.set_title(\"Centred data\")\n",
    "ax.set_aspect(\"equal\")\n",
    "ax.grid(True)\n",
    "\n",
    "plt.xlim([-5, 5])\n",
    "plt.ylim([-4, 4])\n",
    "ax.plot(x, y, linestyle=\"-\")"
   ]
  },
  {
   "cell_type": "code",
   "execution_count": null,
   "metadata": {},
   "outputs": [],
   "source": [
    "f, ax = plt.subplots(figsize=(10, 10))\n",
    "ax.scatter(A[:, 0], A[:, 1])\n",
    "ax.set_title(\"New dimension / projection\")\n",
    "ax.set_aspect(\"equal\")\n",
    "ax.grid(True)\n",
    "\n",
    "plt.xlim([-5, 5])\n",
    "plt.ylim([-4, 4])\n",
    "ax.plot(x, y, linestyle=\"-\")\n",
    "\n",
    "p0 = [x[0], y[0]]\n",
    "p1 = [x[len(x) - 1], y[len(x) - 1]]\n",
    "\n",
    "a = np.array([[p1[0] - p0[0], p1[1] - p0[1]], [p0[1] - p1[1], p1[0] - p0[0]]])\n",
    "\n",
    "for i in range(0, len(A)):\n",
    "    q = A[i]\n",
    "\n",
    "    b = -np.array(\n",
    "        [\n",
    "            -q[0] * (p1[0] - p0[0]) - q[1] * (p1[1] - p0[1]),\n",
    "            -p0[1] * (p1[0] - p0[0]) + p0[0] * (p1[1] - p0[1]),\n",
    "        ]\n",
    "    )\n",
    "\n",
    "    proj = np.linalg.solve(a, b)\n",
    "\n",
    "    ax.plot(proj[0], proj[1], \"bo\", markersize=4, color=\"red\")\n",
    "    ax.plot((q[0], proj[0]), (q[1], proj[1]), linestyle=\"--\", color=\"red\")"
   ]
  },
  {
   "cell_type": "code",
   "execution_count": null,
   "metadata": {},
   "outputs": [],
   "source": []
  }
 ],
 "metadata": {
  "kernelspec": {
   "display_name": "Python 3",
   "language": "python",
   "name": "python3"
  },
  "language_info": {
   "codemirror_mode": {
    "name": "ipython",
    "version": 3
   },
   "file_extension": ".py",
   "mimetype": "text/x-python",
   "name": "python",
   "nbconvert_exporter": "python",
   "pygments_lexer": "ipython3",
   "version": "3.8.6"
  }
 },
 "nbformat": 4,
 "nbformat_minor": 1
}
