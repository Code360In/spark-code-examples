{
 "cells": [
  {
   "cell_type": "code",
   "execution_count": null,
   "metadata": {},
   "outputs": [],
   "source": [
    "import math\n",
    "\n",
    "import matplotlib.pyplot as plt\n",
    "import numpy as np\n",
    "from sklearn import decomposition\n",
    "\n",
    "\n",
    "def plot_arrow(ax, start, stop):\n",
    "    ax.annotate(\"\", xytext=start, xy=stop, arrowprops=dict(facecolor=\"red\", width=2.0))\n",
    "\n",
    "\n",
    "def corr_vars(start=-10, stop=10, step=0.5, mu=0, sigma=3, func=lambda x: x):\n",
    "    x = np.arange(start, stop, step)\n",
    "    e = np.random.normal(mu, sigma, x.size)\n",
    "    y = np.zeros(x.size)\n",
    "\n",
    "    for ind in range(x.size):\n",
    "        y[ind] = func(x[ind]) + e[ind]\n",
    "\n",
    "    return (x, y)"
   ]
  },
  {
   "cell_type": "code",
   "execution_count": null,
   "metadata": {},
   "outputs": [],
   "source": [
    "np.random.seed(100)\n",
    "\n",
    "(x1, x2) = corr_vars(start=2, stop=4, step=0.2, sigma=2, func=lambda x: 2 * math.sin(x))\n",
    "\n",
    "A = np.column_stack((x1, x2))\n",
    "\n",
    "Aorig = A\n",
    "\n",
    "A"
   ]
  },
  {
   "cell_type": "code",
   "execution_count": null,
   "metadata": {},
   "outputs": [],
   "source": [
    "A = A - np.mean(A, axis=0)\n",
    "\n",
    "# Plot the original matrix\n",
    "f, (ax1, ax2) = plt.subplots(1, 2, sharey=True, figsize=(7, 4))\n",
    "ax1.scatter(Aorig[:, 0], Aorig[:, 1])\n",
    "ax1.set_title(\"Original data\")\n",
    "ax1.grid(True)\n",
    "\n",
    "# Plot the centered data\n",
    "ax2.scatter(A[:, 0], A[:, 1])\n",
    "ax2.set_title(\"Centered data\")\n",
    "ax2.grid(True)\n",
    "\n",
    "ax1.axhline(0, color=\"blue\")\n",
    "ax1.axvline(0, color=\"blue\")\n",
    "ax2.axhline(0, color=\"blue\")\n",
    "ax2.axvline(0, color=\"blue\")\n",
    "\n",
    "plt.xlim([-2, 5])\n",
    "plt.ylim([-4, 5])"
   ]
  },
  {
   "cell_type": "code",
   "execution_count": null,
   "metadata": {},
   "outputs": [],
   "source": [
    "S = np.dot(A.T, A) / (A.shape[0] - 1)\n",
    "\n",
    "print(\"The covariance matrix is:\")\n",
    "print(S, \"\\n\")"
   ]
  },
  {
   "cell_type": "code",
   "execution_count": null,
   "metadata": {},
   "outputs": [],
   "source": [
    "f, ax1 = plt.subplots(1, 1, sharey=True, figsize=(12, 4))\n",
    "\n",
    "V = np.array([[-1], [0]])\n",
    "print(\"Vector slope: \", V[1] / V[0])\n",
    "ax1.scatter(A[:, 0], A[:, 1])\n",
    "ax1.set_title(\"Vector [-1,1]\")\n",
    "ax1.grid(True)\n",
    "ax1.plot([0, V[0]], [0, V[1]], c=\"r\")\n",
    "plot_arrow(ax1, (0, 0), (V[0], V[1]))\n",
    "plt.xlim([-5, 5])\n",
    "plt.ylim([-5, 5])"
   ]
  },
  {
   "cell_type": "code",
   "execution_count": null,
   "metadata": {},
   "outputs": [],
   "source": [
    "f, ax1 = plt.subplots(1, 1, sharey=True, figsize=(12, 4))\n",
    "\n",
    "V = np.dot(S, V)\n",
    "print(\"Vector slope: \", V[1] / V[0])\n",
    "ax1.scatter(A[:, 0], A[:, 1])\n",
    "ax1.set_title(\"Vector [-1,1]\")\n",
    "ax1.grid(True)\n",
    "ax1.plot([0, V[0]], [0, V[1]], c=\"r\")\n",
    "plot_arrow(ax1, (0, 0), (V[0], V[1]))\n",
    "\n",
    "plt.xlim([-5, 5])\n",
    "plt.ylim([-5, 5])"
   ]
  },
  {
   "cell_type": "code",
   "execution_count": null,
   "metadata": {},
   "outputs": [],
   "source": [
    "f, ax1 = plt.subplots(1, 1, sharey=True, figsize=(12, 4))\n",
    "\n",
    "V = np.dot(S, V)\n",
    "print(\"Vector slope: \", V[1] / V[0])\n",
    "ax1.scatter(A[:, 0], A[:, 1])\n",
    "ax1.set_title(\"Vector [-1,1]\")\n",
    "ax1.grid(True)\n",
    "ax1.plot([0, V[0]], [0, V[1]], c=\"r\")\n",
    "plot_arrow(ax1, (0, 0), (V[0], V[1]))\n",
    "\n",
    "plt.xlim([-5, 5])\n",
    "plt.ylim([-5, 5])"
   ]
  },
  {
   "cell_type": "code",
   "execution_count": null,
   "metadata": {},
   "outputs": [],
   "source": [
    "f, ax1 = plt.subplots(1, 1, sharey=True, figsize=(12, 4))\n",
    "\n",
    "V = np.dot(S, V)\n",
    "print(\"Vector slope: \", V[1] / V[0])\n",
    "ax1.scatter(A[:, 0], A[:, 1])\n",
    "ax1.set_title(\"Vector [-1,1]\")\n",
    "ax1.grid(True)\n",
    "ax1.plot([0, V[0]], [0, V[1]], c=\"r\")\n",
    "plot_arrow(ax1, (0, 0), (V[0], V[1]))\n",
    "\n",
    "plt.xlim([-5, 5])\n",
    "plt.ylim([-5, 5])"
   ]
  },
  {
   "cell_type": "code",
   "execution_count": null,
   "metadata": {},
   "outputs": [],
   "source": [
    "print(\"The slope of the vector converges to the direction of greatest variance:\\n\")\n",
    "\n",
    "V = np.dot(S, V)\n",
    "print(\"Vector slope: \", V[1] / V[0])\n",
    "V = np.dot(S, V)\n",
    "print(\"Vector slope: \", V[1] / V[0])\n",
    "V = np.dot(S, V)\n",
    "print(\"Vector slope: \", V[1] / V[0])\n",
    "V = np.dot(S, V)\n",
    "print(\"Vector slope: \", V[1] / V[0])\n",
    "V = np.dot(S, V)\n",
    "print(\"Vector slope: \", V[1] / V[0])\n",
    "V = np.dot(S, V)\n",
    "print(\"Vector slope: \", V[1] / V[0])"
   ]
  },
  {
   "cell_type": "code",
   "execution_count": null,
   "metadata": {},
   "outputs": [],
   "source": [
    "# https://en.wikipedia.org/wiki/Eigenvalue_algorithm\n",
    "\n",
    "l_1 = (S.trace() + np.sqrt(pow(S.trace(), 2) - 4 * np.linalg.det(S))) / 2\n",
    "l_2 = (S.trace() - np.sqrt(pow(S.trace(), 2) - 4 * np.linalg.det(S))) / 2\n",
    "\n",
    "print(\"The eigenvalues are:\")\n",
    "print(\"L1:\", l_1)\n",
    "print(\"L2:\", l_2)"
   ]
  },
  {
   "cell_type": "code",
   "execution_count": null,
   "metadata": {},
   "outputs": [],
   "source": [
    "# Cayley-Hamilton theorem\n",
    "# (A - λ1I )(A - λ2I ) = (A - λ2I )(A - λ1I ) = 0\n",
    "\n",
    "A1 = S - l_1 * np.identity(2)\n",
    "A2 = S - l_2 * np.identity(2)\n",
    "\n",
    "E1 = A2[:, 1]\n",
    "E2 = A1[:, 0]\n",
    "\n",
    "E1 = E1 / np.linalg.norm(E1)\n",
    "E2 = E2 / np.linalg.norm(E2)\n",
    "\n",
    "print(\"The eigenvectors are:\")\n",
    "print(\"E1:\", E1)\n",
    "print(\"E2:\", E2)"
   ]
  },
  {
   "cell_type": "code",
   "execution_count": null,
   "metadata": {},
   "outputs": [],
   "source": [
    "E = np.column_stack((E1, E2))\n",
    "\n",
    "E"
   ]
  },
  {
   "cell_type": "code",
   "execution_count": null,
   "metadata": {},
   "outputs": [],
   "source": [
    "evals, evecs = np.linalg.eigh(S)\n",
    "\n",
    "print(evals)\n",
    "print(evecs)"
   ]
  },
  {
   "cell_type": "code",
   "execution_count": null,
   "metadata": {},
   "outputs": [],
   "source": [
    "f, (ax1, ax2, ax3) = plt.subplots(1, 3, sharey=True, figsize=(12, 4))\n",
    "ax1.scatter(Aorig[:, 0], Aorig[:, 1])\n",
    "ax1.set_title(\"Original Data\")\n",
    "ax1.grid(True)\n",
    "ax1.set_aspect(\"equal\")\n",
    "\n",
    "ax2.scatter(Aorig[:, 0], Aorig[:, 1])\n",
    "ax2.set_title(\"E1\")\n",
    "ax2.grid(True)\n",
    "plot_arrow(\n",
    "    ax2,\n",
    "    np.mean(Aorig, axis=0),\n",
    "    np.mean(Aorig, axis=0) + np.dot(Aorig, E).std(axis=0).mean() * E1,\n",
    ")\n",
    "ax2.set_aspect(\"equal\")\n",
    "\n",
    "ax3.scatter(Aorig[:, 0], Aorig[:, 1])\n",
    "ax3.set_title(\"E1 and E2\")\n",
    "ax3.grid(True)\n",
    "plot_arrow(\n",
    "    ax3,\n",
    "    np.mean(Aorig, axis=0),\n",
    "    np.mean(Aorig, axis=0) + np.dot(Aorig, E).std(axis=0).mean() * E1,\n",
    ")\n",
    "plot_arrow(\n",
    "    ax3,\n",
    "    np.mean(Aorig, axis=0),\n",
    "    np.mean(Aorig, axis=0) + np.dot(Aorig, E).std(axis=0).mean() * E2,\n",
    ")\n",
    "ax3.set_aspect(\"equal\")\n",
    "\n",
    "plt.xlim([0, 5])\n",
    "plt.ylim([-4, 5])"
   ]
  },
  {
   "cell_type": "code",
   "execution_count": null,
   "metadata": {},
   "outputs": [],
   "source": [
    "F1 = np.dot(A, E1)\n",
    "F2 = np.dot(A, E2)\n",
    "\n",
    "F = np.column_stack((F1, F2))\n",
    "F"
   ]
  },
  {
   "cell_type": "code",
   "execution_count": null,
   "metadata": {},
   "outputs": [],
   "source": [
    "pca = decomposition.PCA(n_components=2)\n",
    "print(pca.fit_transform(A))"
   ]
  },
  {
   "cell_type": "code",
   "execution_count": null,
   "metadata": {},
   "outputs": [],
   "source": []
  }
 ],
 "metadata": {
  "kernelspec": {
   "display_name": "Python 3",
   "language": "python",
   "name": "python3"
  },
  "language_info": {
   "codemirror_mode": {
    "name": "ipython",
    "version": 3
   },
   "file_extension": ".py",
   "mimetype": "text/x-python",
   "name": "python",
   "nbconvert_exporter": "python",
   "pygments_lexer": "ipython3",
   "version": "3.8.6"
  }
 },
 "nbformat": 4,
 "nbformat_minor": 1
}
