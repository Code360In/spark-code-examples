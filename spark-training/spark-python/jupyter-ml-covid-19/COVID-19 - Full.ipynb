{
 "cells": [
  {
   "cell_type": "markdown",
   "metadata": {},
   "source": [
    "# COVID-19\n",
    "\n",
    "This notebook analyzes the growth of the COVID-19 pandemy. It relies on the data provided by Johns Hopkins CSSE at https://github.com/CSSEGISandData/COVID-19 . The main question is: how will the number of infected people change over time. We will use a very simple approach, that should not be used for serious predictions of spreads of deseases, but which is well supported in PySpark. For a better mathematical model, please read https://de.wikipedia.org/wiki/SIR-Modell . Unfortunately there is no support in PySpark for estimating model parameters within a more meaningful model. \n",
    "\n",
    "So this notebook is mainly about getting some basic insights into machine learning with PySpark."
   ]
  },
  {
   "cell_type": "markdown",
   "metadata": {},
   "source": [
    "# 0. Spark Context & Imports"
   ]
  },
  {
   "cell_type": "code",
   "execution_count": 1,
   "metadata": {},
   "outputs": [],
   "source": [
    "import matplotlib.pyplot as plt"
   ]
  },
  {
   "cell_type": "code",
   "execution_count": 2,
   "metadata": {},
   "outputs": [
    {
     "data": {
      "text/html": [
       "\n",
       "            <div>\n",
       "                <p><b>SparkSession - in-memory</b></p>\n",
       "                \n",
       "        <div>\n",
       "            <p><b>SparkContext</b></p>\n",
       "\n",
       "            <p><a href=\"http://efa4fad7f2df:4040\">Spark UI</a></p>\n",
       "\n",
       "            <dl>\n",
       "              <dt>Version</dt>\n",
       "                <dd><code>v2.4.5</code></dd>\n",
       "              <dt>Master</dt>\n",
       "                <dd><code>local[*]</code></dd>\n",
       "              <dt>AppName</dt>\n",
       "                <dd><code>pyspark-shell</code></dd>\n",
       "            </dl>\n",
       "        </div>\n",
       "        \n",
       "            </div>\n",
       "        "
      ],
      "text/plain": [
       "<pyspark.sql.session.SparkSession at 0x7ff77ccaf150>"
      ]
     },
     "execution_count": 2,
     "metadata": {},
     "output_type": "execute_result"
    }
   ],
   "source": [
    "import pyspark.sql.functions as f\n",
    "from pyspark.sql import SparkSession\n",
    "\n",
    "\n",
    "if not 'spark' in locals():\n",
    "    spark = (\n",
    "        SparkSession.builder.master(\"local[*]\")\n",
    "        .config(\"spark.driver.memory\", \"64G\")\n",
    "        .getOrCreate()\n",
    "    )\n",
    "\n",
    "spark"
   ]
  },
  {
   "cell_type": "code",
   "execution_count": 3,
   "metadata": {},
   "outputs": [],
   "source": [
    "%matplotlib inline"
   ]
  },
  {
   "cell_type": "markdown",
   "metadata": {},
   "source": [
    "# 1. Load Data\n",
    "\n",
    "The original data is available at https://github.com/CSSEGISandData/COVID-19 provided by Johns Hopkins CSSE. There are several different representations of the data, we will peek into different versions and then select the most appropriate to work with."
   ]
  },
  {
   "cell_type": "code",
   "execution_count": 4,
   "metadata": {},
   "outputs": [],
   "source": [
    "basedir = 's3://dimajix-training/data/covid-19'\n",
    "# basedir = '/dimajix/data/COVID-19/csse_covid_19_data'"
   ]
  },
  {
   "cell_type": "markdown",
   "metadata": {},
   "source": [
    "## 1.1 Load Time Series\n",
    "\n",
    "The repository already contains time series data. This is nice to look at, but specifically for PySpark maybe a little bit hard to work with. Each line in the file contains a full time series of the number of positive tested persons. This means that the number of columns change with every update. "
   ]
  },
  {
   "cell_type": "code",
   "execution_count": 5,
   "metadata": {},
   "outputs": [
    {
     "data": {
      "text/html": [
       "<div>\n",
       "<style scoped>\n",
       "    .dataframe tbody tr th:only-of-type {\n",
       "        vertical-align: middle;\n",
       "    }\n",
       "\n",
       "    .dataframe tbody tr th {\n",
       "        vertical-align: top;\n",
       "    }\n",
       "\n",
       "    .dataframe thead th {\n",
       "        text-align: right;\n",
       "    }\n",
       "</style>\n",
       "<table border=\"1\" class=\"dataframe\">\n",
       "  <thead>\n",
       "    <tr style=\"text-align: right;\">\n",
       "      <th></th>\n",
       "      <th>Province/State</th>\n",
       "      <th>Country/Region</th>\n",
       "      <th>Lat</th>\n",
       "      <th>Long</th>\n",
       "      <th>1/22/20</th>\n",
       "      <th>1/23/20</th>\n",
       "      <th>1/24/20</th>\n",
       "      <th>1/25/20</th>\n",
       "      <th>1/26/20</th>\n",
       "      <th>1/27/20</th>\n",
       "      <th>...</th>\n",
       "      <th>3/29/20</th>\n",
       "      <th>3/30/20</th>\n",
       "      <th>3/31/20</th>\n",
       "      <th>4/1/20</th>\n",
       "      <th>4/2/20</th>\n",
       "      <th>4/3/20</th>\n",
       "      <th>4/4/20</th>\n",
       "      <th>4/5/20</th>\n",
       "      <th>4/6/20</th>\n",
       "      <th>4/7/20</th>\n",
       "    </tr>\n",
       "  </thead>\n",
       "  <tbody>\n",
       "    <tr>\n",
       "      <th>0</th>\n",
       "      <td>None</td>\n",
       "      <td>Afghanistan</td>\n",
       "      <td>33.0</td>\n",
       "      <td>65.0</td>\n",
       "      <td>0</td>\n",
       "      <td>0</td>\n",
       "      <td>0</td>\n",
       "      <td>0</td>\n",
       "      <td>0</td>\n",
       "      <td>0</td>\n",
       "      <td>...</td>\n",
       "      <td>120</td>\n",
       "      <td>170</td>\n",
       "      <td>174</td>\n",
       "      <td>237</td>\n",
       "      <td>273</td>\n",
       "      <td>281</td>\n",
       "      <td>299</td>\n",
       "      <td>349</td>\n",
       "      <td>367</td>\n",
       "      <td>423</td>\n",
       "    </tr>\n",
       "    <tr>\n",
       "      <th>1</th>\n",
       "      <td>None</td>\n",
       "      <td>Albania</td>\n",
       "      <td>41.1533</td>\n",
       "      <td>20.1683</td>\n",
       "      <td>0</td>\n",
       "      <td>0</td>\n",
       "      <td>0</td>\n",
       "      <td>0</td>\n",
       "      <td>0</td>\n",
       "      <td>0</td>\n",
       "      <td>...</td>\n",
       "      <td>212</td>\n",
       "      <td>223</td>\n",
       "      <td>243</td>\n",
       "      <td>259</td>\n",
       "      <td>277</td>\n",
       "      <td>304</td>\n",
       "      <td>333</td>\n",
       "      <td>361</td>\n",
       "      <td>377</td>\n",
       "      <td>383</td>\n",
       "    </tr>\n",
       "    <tr>\n",
       "      <th>2</th>\n",
       "      <td>None</td>\n",
       "      <td>Algeria</td>\n",
       "      <td>28.0339</td>\n",
       "      <td>1.6596</td>\n",
       "      <td>0</td>\n",
       "      <td>0</td>\n",
       "      <td>0</td>\n",
       "      <td>0</td>\n",
       "      <td>0</td>\n",
       "      <td>0</td>\n",
       "      <td>...</td>\n",
       "      <td>511</td>\n",
       "      <td>584</td>\n",
       "      <td>716</td>\n",
       "      <td>847</td>\n",
       "      <td>986</td>\n",
       "      <td>1171</td>\n",
       "      <td>1251</td>\n",
       "      <td>1320</td>\n",
       "      <td>1423</td>\n",
       "      <td>1468</td>\n",
       "    </tr>\n",
       "    <tr>\n",
       "      <th>3</th>\n",
       "      <td>None</td>\n",
       "      <td>Andorra</td>\n",
       "      <td>42.5063</td>\n",
       "      <td>1.5218</td>\n",
       "      <td>0</td>\n",
       "      <td>0</td>\n",
       "      <td>0</td>\n",
       "      <td>0</td>\n",
       "      <td>0</td>\n",
       "      <td>0</td>\n",
       "      <td>...</td>\n",
       "      <td>334</td>\n",
       "      <td>370</td>\n",
       "      <td>376</td>\n",
       "      <td>390</td>\n",
       "      <td>428</td>\n",
       "      <td>439</td>\n",
       "      <td>466</td>\n",
       "      <td>501</td>\n",
       "      <td>525</td>\n",
       "      <td>545</td>\n",
       "    </tr>\n",
       "    <tr>\n",
       "      <th>4</th>\n",
       "      <td>None</td>\n",
       "      <td>Angola</td>\n",
       "      <td>-11.2027</td>\n",
       "      <td>17.8739</td>\n",
       "      <td>0</td>\n",
       "      <td>0</td>\n",
       "      <td>0</td>\n",
       "      <td>0</td>\n",
       "      <td>0</td>\n",
       "      <td>0</td>\n",
       "      <td>...</td>\n",
       "      <td>7</td>\n",
       "      <td>7</td>\n",
       "      <td>7</td>\n",
       "      <td>8</td>\n",
       "      <td>8</td>\n",
       "      <td>8</td>\n",
       "      <td>10</td>\n",
       "      <td>14</td>\n",
       "      <td>16</td>\n",
       "      <td>17</td>\n",
       "    </tr>\n",
       "    <tr>\n",
       "      <th>...</th>\n",
       "      <td>...</td>\n",
       "      <td>...</td>\n",
       "      <td>...</td>\n",
       "      <td>...</td>\n",
       "      <td>...</td>\n",
       "      <td>...</td>\n",
       "      <td>...</td>\n",
       "      <td>...</td>\n",
       "      <td>...</td>\n",
       "      <td>...</td>\n",
       "      <td>...</td>\n",
       "      <td>...</td>\n",
       "      <td>...</td>\n",
       "      <td>...</td>\n",
       "      <td>...</td>\n",
       "      <td>...</td>\n",
       "      <td>...</td>\n",
       "      <td>...</td>\n",
       "      <td>...</td>\n",
       "      <td>...</td>\n",
       "      <td>...</td>\n",
       "    </tr>\n",
       "    <tr>\n",
       "      <th>258</th>\n",
       "      <td>Falkland Islands (Malvinas)</td>\n",
       "      <td>United Kingdom</td>\n",
       "      <td>-51.7963</td>\n",
       "      <td>-59.5236</td>\n",
       "      <td>0</td>\n",
       "      <td>0</td>\n",
       "      <td>0</td>\n",
       "      <td>0</td>\n",
       "      <td>0</td>\n",
       "      <td>0</td>\n",
       "      <td>...</td>\n",
       "      <td>0</td>\n",
       "      <td>0</td>\n",
       "      <td>0</td>\n",
       "      <td>0</td>\n",
       "      <td>0</td>\n",
       "      <td>0</td>\n",
       "      <td>1</td>\n",
       "      <td>2</td>\n",
       "      <td>2</td>\n",
       "      <td>2</td>\n",
       "    </tr>\n",
       "    <tr>\n",
       "      <th>259</th>\n",
       "      <td>Saint Pierre and Miquelon</td>\n",
       "      <td>France</td>\n",
       "      <td>46.8852</td>\n",
       "      <td>-56.3159</td>\n",
       "      <td>0</td>\n",
       "      <td>0</td>\n",
       "      <td>0</td>\n",
       "      <td>0</td>\n",
       "      <td>0</td>\n",
       "      <td>0</td>\n",
       "      <td>...</td>\n",
       "      <td>0</td>\n",
       "      <td>0</td>\n",
       "      <td>0</td>\n",
       "      <td>0</td>\n",
       "      <td>0</td>\n",
       "      <td>0</td>\n",
       "      <td>0</td>\n",
       "      <td>1</td>\n",
       "      <td>1</td>\n",
       "      <td>1</td>\n",
       "    </tr>\n",
       "    <tr>\n",
       "      <th>260</th>\n",
       "      <td>None</td>\n",
       "      <td>South Sudan</td>\n",
       "      <td>6.877000000000001</td>\n",
       "      <td>31.307</td>\n",
       "      <td>0</td>\n",
       "      <td>0</td>\n",
       "      <td>0</td>\n",
       "      <td>0</td>\n",
       "      <td>0</td>\n",
       "      <td>0</td>\n",
       "      <td>...</td>\n",
       "      <td>0</td>\n",
       "      <td>0</td>\n",
       "      <td>0</td>\n",
       "      <td>0</td>\n",
       "      <td>0</td>\n",
       "      <td>0</td>\n",
       "      <td>0</td>\n",
       "      <td>1</td>\n",
       "      <td>1</td>\n",
       "      <td>2</td>\n",
       "    </tr>\n",
       "    <tr>\n",
       "      <th>261</th>\n",
       "      <td>None</td>\n",
       "      <td>Western Sahara</td>\n",
       "      <td>24.2155</td>\n",
       "      <td>-12.8858</td>\n",
       "      <td>0</td>\n",
       "      <td>0</td>\n",
       "      <td>0</td>\n",
       "      <td>0</td>\n",
       "      <td>0</td>\n",
       "      <td>0</td>\n",
       "      <td>...</td>\n",
       "      <td>0</td>\n",
       "      <td>0</td>\n",
       "      <td>0</td>\n",
       "      <td>0</td>\n",
       "      <td>0</td>\n",
       "      <td>0</td>\n",
       "      <td>0</td>\n",
       "      <td>4</td>\n",
       "      <td>4</td>\n",
       "      <td>4</td>\n",
       "    </tr>\n",
       "    <tr>\n",
       "      <th>262</th>\n",
       "      <td>None</td>\n",
       "      <td>Sao Tome and Principe</td>\n",
       "      <td>0.18636</td>\n",
       "      <td>6.613081</td>\n",
       "      <td>0</td>\n",
       "      <td>0</td>\n",
       "      <td>0</td>\n",
       "      <td>0</td>\n",
       "      <td>0</td>\n",
       "      <td>0</td>\n",
       "      <td>...</td>\n",
       "      <td>0</td>\n",
       "      <td>0</td>\n",
       "      <td>0</td>\n",
       "      <td>0</td>\n",
       "      <td>0</td>\n",
       "      <td>0</td>\n",
       "      <td>0</td>\n",
       "      <td>0</td>\n",
       "      <td>4</td>\n",
       "      <td>4</td>\n",
       "    </tr>\n",
       "  </tbody>\n",
       "</table>\n",
       "<p>263 rows × 81 columns</p>\n",
       "</div>"
      ],
      "text/plain": [
       "                  Province/State         Country/Region                Lat  \\\n",
       "0                           None            Afghanistan               33.0   \n",
       "1                           None                Albania            41.1533   \n",
       "2                           None                Algeria            28.0339   \n",
       "3                           None                Andorra            42.5063   \n",
       "4                           None                 Angola           -11.2027   \n",
       "..                           ...                    ...                ...   \n",
       "258  Falkland Islands (Malvinas)         United Kingdom           -51.7963   \n",
       "259    Saint Pierre and Miquelon                 France            46.8852   \n",
       "260                         None            South Sudan  6.877000000000001   \n",
       "261                         None         Western Sahara            24.2155   \n",
       "262                         None  Sao Tome and Principe            0.18636   \n",
       "\n",
       "         Long 1/22/20 1/23/20 1/24/20 1/25/20 1/26/20 1/27/20  ... 3/29/20  \\\n",
       "0        65.0       0       0       0       0       0       0  ...     120   \n",
       "1     20.1683       0       0       0       0       0       0  ...     212   \n",
       "2      1.6596       0       0       0       0       0       0  ...     511   \n",
       "3      1.5218       0       0       0       0       0       0  ...     334   \n",
       "4     17.8739       0       0       0       0       0       0  ...       7   \n",
       "..        ...     ...     ...     ...     ...     ...     ...  ...     ...   \n",
       "258  -59.5236       0       0       0       0       0       0  ...       0   \n",
       "259  -56.3159       0       0       0       0       0       0  ...       0   \n",
       "260    31.307       0       0       0       0       0       0  ...       0   \n",
       "261  -12.8858       0       0       0       0       0       0  ...       0   \n",
       "262  6.613081       0       0       0       0       0       0  ...       0   \n",
       "\n",
       "    3/30/20 3/31/20 4/1/20 4/2/20 4/3/20 4/4/20 4/5/20 4/6/20 4/7/20  \n",
       "0       170     174    237    273    281    299    349    367    423  \n",
       "1       223     243    259    277    304    333    361    377    383  \n",
       "2       584     716    847    986   1171   1251   1320   1423   1468  \n",
       "3       370     376    390    428    439    466    501    525    545  \n",
       "4         7       7      8      8      8     10     14     16     17  \n",
       "..      ...     ...    ...    ...    ...    ...    ...    ...    ...  \n",
       "258       0       0      0      0      0      1      2      2      2  \n",
       "259       0       0      0      0      0      0      1      1      1  \n",
       "260       0       0      0      0      0      0      1      1      2  \n",
       "261       0       0      0      0      0      0      4      4      4  \n",
       "262       0       0      0      0      0      0      0      4      4  \n",
       "\n",
       "[263 rows x 81 columns]"
      ]
     },
     "execution_count": 5,
     "metadata": {},
     "output_type": "execute_result"
    }
   ],
   "source": [
    "series = spark.read.option(\"header\", True).csv(\n",
    "    basedir + \"/csse_covid_19_time_series/time_series_covid19_confirmed_global.csv\"\n",
    ")\n",
    "series.toPandas()"
   ]
  },
  {
   "cell_type": "markdown",
   "metadata": {},
   "source": [
    "## 1.2 Load Daily Reports\n",
    "\n",
    "The repository also contains more detailed files containing the daily reports of the total number of positively tested persons. Within those files, every line represents exactly one region and one time. Therefore the schema stays stable with every update, only new records are appended. But there are some small technical challenges that we need to take. "
   ]
  },
  {
   "cell_type": "markdown",
   "metadata": {},
   "source": [
    "### Date parser helper\n",
    "\n",
    "First small challenge: All records contain a date, some of them a datetime. But the format has changed several times. In order to handle the different cases, we provide a small PySpark UDF (User Defined Function) that is capable of parsing all formats and which returns the extracted date."
   ]
  },
  {
   "cell_type": "code",
   "execution_count": 6,
   "metadata": {},
   "outputs": [],
   "source": [
    "import datetime\n",
    "\n",
    "from pyspark.sql.types import *\n",
    "\n",
    "\n",
    "@f.udf(DateType())\n",
    "def parse_date(date):\n",
    "    if \"/\" in date:\n",
    "        date = date.split(\" \")[0]\n",
    "        (m, d, y) = date.split(\"/\")\n",
    "        y = int(y)\n",
    "        m = int(m)\n",
    "        d = int(d)\n",
    "        if y < 2000:\n",
    "            y += 2000\n",
    "    else:\n",
    "        date = date[0:10]\n",
    "        (y, m, d) = date.split(\"-\")\n",
    "        y = int(y)\n",
    "        m = int(m)\n",
    "        d = int(d)\n",
    "    return datetime.date(year=y, month=m, day=d)\n",
    "\n",
    "\n",
    "# print(parse_date(\"2020-03-01\"))\n",
    "# print(parse_date(\"1/22/2020\"))\n",
    "# print(parse_date(\"2020-03-01T23:45:50\"))"
   ]
  },
  {
   "cell_type": "markdown",
   "metadata": {},
   "source": [
    "### Read in data, old schema\n",
    "\n",
    "Next challenge is that the schema did change, namely between 2020-03-21 and 2020-03-22. The column names have changed, new columns have been added and so on. Therefore we cannot read in all files within a single `spark.read.csv`, but we need to split them up into two separate batches with different schemas."
   ]
  },
  {
   "cell_type": "code",
   "execution_count": 12,
   "metadata": {},
   "outputs": [],
   "source": [
    "# Last date to read\n",
    "today = datetime.date(2020, 4, 7)  # datetime.date.today()\n",
    "# First date to read\n",
    "start_date = datetime.date(2020, 1, 22)\n",
    "# First date with new schema\n",
    "schema_switch_date = datetime.date(2020, 3, 22)"
   ]
  },
  {
   "cell_type": "markdown",
   "metadata": {},
   "source": [
    "The first bunch of files is stored as CSV and has the following columns:\n",
    "* `Province_State`\n",
    "* `Country_Region`\n",
    "* `Last_Update` date of the last update\n",
    "* `Confirmed` the number of confirmed cases\n",
    "* `Deaths` the number of confirmed cases, which have died\n",
    "* `Recovered` the number of recovered cases\n",
    "* `Latitude` and `Longitude` geo coordinates of the province\n",
    "\n",
    "The metrics (confirmed, deaths and recovered) are always totals, they already contain all cases from the past."
   ]
  },
  {
   "cell_type": "code",
   "execution_count": 13,
   "metadata": {},
   "outputs": [
    {
     "data": {
      "text/html": [
       "<div>\n",
       "<style scoped>\n",
       "    .dataframe tbody tr th:only-of-type {\n",
       "        vertical-align: middle;\n",
       "    }\n",
       "\n",
       "    .dataframe tbody tr th {\n",
       "        vertical-align: top;\n",
       "    }\n",
       "\n",
       "    .dataframe thead th {\n",
       "        text-align: right;\n",
       "    }\n",
       "</style>\n",
       "<table border=\"1\" class=\"dataframe\">\n",
       "  <thead>\n",
       "    <tr style=\"text-align: right;\">\n",
       "      <th></th>\n",
       "      <th>Province_State</th>\n",
       "      <th>Country_Region</th>\n",
       "      <th>Last_Update</th>\n",
       "      <th>Confirmed</th>\n",
       "      <th>Deaths</th>\n",
       "      <th>Recovered</th>\n",
       "      <th>Latitude</th>\n",
       "      <th>Longitude</th>\n",
       "    </tr>\n",
       "  </thead>\n",
       "  <tbody>\n",
       "    <tr>\n",
       "      <th>0</th>\n",
       "      <td>Hubei</td>\n",
       "      <td>China</td>\n",
       "      <td>2020-03-21T10:13:08</td>\n",
       "      <td>67800.0</td>\n",
       "      <td>3139.0</td>\n",
       "      <td>58946.0</td>\n",
       "      <td>30.9756</td>\n",
       "      <td>112.2707</td>\n",
       "    </tr>\n",
       "    <tr>\n",
       "      <th>1</th>\n",
       "      <td>None</td>\n",
       "      <td>Italy</td>\n",
       "      <td>2020-03-21T17:43:03</td>\n",
       "      <td>53578.0</td>\n",
       "      <td>4825.0</td>\n",
       "      <td>6072.0</td>\n",
       "      <td>41.8719</td>\n",
       "      <td>12.5674</td>\n",
       "    </tr>\n",
       "    <tr>\n",
       "      <th>2</th>\n",
       "      <td>None</td>\n",
       "      <td>Spain</td>\n",
       "      <td>2020-03-21T13:13:30</td>\n",
       "      <td>25374.0</td>\n",
       "      <td>1375.0</td>\n",
       "      <td>2125.0</td>\n",
       "      <td>40.4637</td>\n",
       "      <td>-3.7492</td>\n",
       "    </tr>\n",
       "    <tr>\n",
       "      <th>3</th>\n",
       "      <td>None</td>\n",
       "      <td>Germany</td>\n",
       "      <td>2020-03-21T20:43:02</td>\n",
       "      <td>22213.0</td>\n",
       "      <td>84.0</td>\n",
       "      <td>233.0</td>\n",
       "      <td>51.1657</td>\n",
       "      <td>10.4515</td>\n",
       "    </tr>\n",
       "    <tr>\n",
       "      <th>4</th>\n",
       "      <td>None</td>\n",
       "      <td>Iran</td>\n",
       "      <td>2020-03-21T11:13:12</td>\n",
       "      <td>20610.0</td>\n",
       "      <td>1556.0</td>\n",
       "      <td>7635.0</td>\n",
       "      <td>32.4279</td>\n",
       "      <td>53.6880</td>\n",
       "    </tr>\n",
       "    <tr>\n",
       "      <th>...</th>\n",
       "      <td>...</td>\n",
       "      <td>...</td>\n",
       "      <td>...</td>\n",
       "      <td>...</td>\n",
       "      <td>...</td>\n",
       "      <td>...</td>\n",
       "      <td>...</td>\n",
       "      <td>...</td>\n",
       "    </tr>\n",
       "    <tr>\n",
       "      <th>7612</th>\n",
       "      <td>Yunnan</td>\n",
       "      <td>Mainland China</td>\n",
       "      <td>1/22/2020 17:00</td>\n",
       "      <td>1.0</td>\n",
       "      <td>NaN</td>\n",
       "      <td>NaN</td>\n",
       "      <td>NaN</td>\n",
       "      <td>NaN</td>\n",
       "    </tr>\n",
       "    <tr>\n",
       "      <th>7613</th>\n",
       "      <td>Zhejiang</td>\n",
       "      <td>Mainland China</td>\n",
       "      <td>1/22/2020 17:00</td>\n",
       "      <td>10.0</td>\n",
       "      <td>NaN</td>\n",
       "      <td>NaN</td>\n",
       "      <td>NaN</td>\n",
       "      <td>NaN</td>\n",
       "    </tr>\n",
       "    <tr>\n",
       "      <th>7614</th>\n",
       "      <td>None</td>\n",
       "      <td>Japan</td>\n",
       "      <td>1/22/2020 17:00</td>\n",
       "      <td>2.0</td>\n",
       "      <td>NaN</td>\n",
       "      <td>NaN</td>\n",
       "      <td>NaN</td>\n",
       "      <td>NaN</td>\n",
       "    </tr>\n",
       "    <tr>\n",
       "      <th>7615</th>\n",
       "      <td>None</td>\n",
       "      <td>Thailand</td>\n",
       "      <td>1/22/2020 17:00</td>\n",
       "      <td>2.0</td>\n",
       "      <td>NaN</td>\n",
       "      <td>NaN</td>\n",
       "      <td>NaN</td>\n",
       "      <td>NaN</td>\n",
       "    </tr>\n",
       "    <tr>\n",
       "      <th>7616</th>\n",
       "      <td>None</td>\n",
       "      <td>South Korea</td>\n",
       "      <td>1/22/2020 17:00</td>\n",
       "      <td>1.0</td>\n",
       "      <td>NaN</td>\n",
       "      <td>NaN</td>\n",
       "      <td>NaN</td>\n",
       "      <td>NaN</td>\n",
       "    </tr>\n",
       "  </tbody>\n",
       "</table>\n",
       "<p>7617 rows × 8 columns</p>\n",
       "</div>"
      ],
      "text/plain": [
       "     Province_State  Country_Region          Last_Update  Confirmed  Deaths  \\\n",
       "0             Hubei           China  2020-03-21T10:13:08    67800.0  3139.0   \n",
       "1              None           Italy  2020-03-21T17:43:03    53578.0  4825.0   \n",
       "2              None           Spain  2020-03-21T13:13:30    25374.0  1375.0   \n",
       "3              None         Germany  2020-03-21T20:43:02    22213.0    84.0   \n",
       "4              None            Iran  2020-03-21T11:13:12    20610.0  1556.0   \n",
       "...             ...             ...                  ...        ...     ...   \n",
       "7612         Yunnan  Mainland China      1/22/2020 17:00        1.0     NaN   \n",
       "7613       Zhejiang  Mainland China      1/22/2020 17:00       10.0     NaN   \n",
       "7614           None           Japan      1/22/2020 17:00        2.0     NaN   \n",
       "7615           None        Thailand      1/22/2020 17:00        2.0     NaN   \n",
       "7616           None     South Korea      1/22/2020 17:00        1.0     NaN   \n",
       "\n",
       "      Recovered  Latitude  Longitude  \n",
       "0       58946.0   30.9756   112.2707  \n",
       "1        6072.0   41.8719    12.5674  \n",
       "2        2125.0   40.4637    -3.7492  \n",
       "3         233.0   51.1657    10.4515  \n",
       "4        7635.0   32.4279    53.6880  \n",
       "...         ...       ...        ...  \n",
       "7612        NaN       NaN        NaN  \n",
       "7613        NaN       NaN        NaN  \n",
       "7614        NaN       NaN        NaN  \n",
       "7615        NaN       NaN        NaN  \n",
       "7616        NaN       NaN        NaN  \n",
       "\n",
       "[7617 rows x 8 columns]"
      ]
     },
     "execution_count": 13,
     "metadata": {},
     "output_type": "execute_result"
    }
   ],
   "source": [
    "daily_reports_dir = basedir + \"/csse_covid_19_daily_reports\"\n",
    "\n",
    "# Define old schema for first batch of files\n",
    "schema_1 = StructType(\n",
    "    [\n",
    "        StructField(\"Province_State\", StringType()),\n",
    "        StructField(\"Country_Region\", StringType()),\n",
    "        StructField(\"Last_Update\", StringType()),\n",
    "        StructField(\"Confirmed\", LongType()),\n",
    "        StructField(\"Deaths\", LongType()),\n",
    "        StructField(\"Recovered\", LongType()),\n",
    "        StructField(\"Latitude\", DoubleType()),\n",
    "        StructField(\"Longitude\", DoubleType()),\n",
    "    ]\n",
    ")\n",
    "\n",
    "# Generate all dates with old schema\n",
    "schema_1_dates = [\n",
    "    start_date + datetime.timedelta(days=d)\n",
    "    for d in range(0, (schema_switch_date - start_date).days)\n",
    "]\n",
    "# Generate file names with old schema\n",
    "schema_1_files = [\n",
    "    daily_reports_dir + \"/\" + d.strftime(\"%m-%d-%Y\") + \".csv\" for d in schema_1_dates\n",
    "]\n",
    "\n",
    "# Read in all files with old schema\n",
    "cases_1 = spark.read.schema(schema_1).option(\"header\", True).csv(schema_1_files)\n",
    "\n",
    "# Peek inside\n",
    "cases_1.toPandas()"
   ]
  },
  {
   "cell_type": "markdown",
   "metadata": {},
   "source": [
    "### Read in data, new schema\n",
    "\n",
    "Now we perform exactly the same logical step, we read in all files with the new schema. The second bunch of files is stored as CSV and has the following columns:\n",
    "* `FIPS` country code\n",
    "* `Admin2` administrative name below province (i.e. counties)\n",
    "* `Province_State`\n",
    "* `Country_Region`\n",
    "* `Last_Update` date of the last update\n",
    "* `Latitude` and `Longitude` geo coordinates of the province\n",
    "* `Confirmed` the number of confirmed cases\n",
    "* `Deaths` the number of confirmed cases, which have died\n",
    "* `Recovered` the number of recovered cases\n",
    "* `Active` the number of currently active cases\n",
    "* `Combined_Key` a combination of `Admin2`, `Province_State` and `Country_Region`\n",
    "\n",
    "The metrics (confirmed, deaths and recovered) are always totals, they already contain all cases from the past."
   ]
  },
  {
   "cell_type": "code",
   "execution_count": 14,
   "metadata": {},
   "outputs": [
    {
     "data": {
      "text/html": [
       "<div>\n",
       "<style scoped>\n",
       "    .dataframe tbody tr th:only-of-type {\n",
       "        vertical-align: middle;\n",
       "    }\n",
       "\n",
       "    .dataframe tbody tr th {\n",
       "        vertical-align: top;\n",
       "    }\n",
       "\n",
       "    .dataframe thead th {\n",
       "        text-align: right;\n",
       "    }\n",
       "</style>\n",
       "<table border=\"1\" class=\"dataframe\">\n",
       "  <thead>\n",
       "    <tr style=\"text-align: right;\">\n",
       "      <th></th>\n",
       "      <th>FIPS</th>\n",
       "      <th>Admin2</th>\n",
       "      <th>Province_State</th>\n",
       "      <th>Country_Region</th>\n",
       "      <th>Last_Update</th>\n",
       "      <th>Latitude</th>\n",
       "      <th>Longitude</th>\n",
       "      <th>Confirmed</th>\n",
       "      <th>Deaths</th>\n",
       "      <th>Recovered</th>\n",
       "      <th>Active</th>\n",
       "      <th>Combined_Key</th>\n",
       "    </tr>\n",
       "  </thead>\n",
       "  <tbody>\n",
       "    <tr>\n",
       "      <th>0</th>\n",
       "      <td>45001</td>\n",
       "      <td>Abbeville</td>\n",
       "      <td>South Carolina</td>\n",
       "      <td>US</td>\n",
       "      <td>2020-03-28 23:05:37</td>\n",
       "      <td>34.223334</td>\n",
       "      <td>-82.461707</td>\n",
       "      <td>3</td>\n",
       "      <td>0</td>\n",
       "      <td>0</td>\n",
       "      <td>0</td>\n",
       "      <td>Abbeville, South Carolina, US</td>\n",
       "    </tr>\n",
       "    <tr>\n",
       "      <th>1</th>\n",
       "      <td>22001</td>\n",
       "      <td>Acadia</td>\n",
       "      <td>Louisiana</td>\n",
       "      <td>US</td>\n",
       "      <td>2020-03-28 23:05:37</td>\n",
       "      <td>30.295065</td>\n",
       "      <td>-92.414197</td>\n",
       "      <td>9</td>\n",
       "      <td>1</td>\n",
       "      <td>0</td>\n",
       "      <td>0</td>\n",
       "      <td>Acadia, Louisiana, US</td>\n",
       "    </tr>\n",
       "    <tr>\n",
       "      <th>2</th>\n",
       "      <td>51001</td>\n",
       "      <td>Accomack</td>\n",
       "      <td>Virginia</td>\n",
       "      <td>US</td>\n",
       "      <td>2020-03-28 23:05:37</td>\n",
       "      <td>37.767072</td>\n",
       "      <td>-75.632346</td>\n",
       "      <td>2</td>\n",
       "      <td>0</td>\n",
       "      <td>0</td>\n",
       "      <td>0</td>\n",
       "      <td>Accomack, Virginia, US</td>\n",
       "    </tr>\n",
       "    <tr>\n",
       "      <th>3</th>\n",
       "      <td>16001</td>\n",
       "      <td>Ada</td>\n",
       "      <td>Idaho</td>\n",
       "      <td>US</td>\n",
       "      <td>2020-03-28 23:05:37</td>\n",
       "      <td>43.452658</td>\n",
       "      <td>-116.241552</td>\n",
       "      <td>76</td>\n",
       "      <td>0</td>\n",
       "      <td>0</td>\n",
       "      <td>0</td>\n",
       "      <td>Ada, Idaho, US</td>\n",
       "    </tr>\n",
       "    <tr>\n",
       "      <th>4</th>\n",
       "      <td>19001</td>\n",
       "      <td>Adair</td>\n",
       "      <td>Iowa</td>\n",
       "      <td>US</td>\n",
       "      <td>2020-03-28 23:05:37</td>\n",
       "      <td>41.330756</td>\n",
       "      <td>-94.471059</td>\n",
       "      <td>1</td>\n",
       "      <td>0</td>\n",
       "      <td>0</td>\n",
       "      <td>0</td>\n",
       "      <td>Adair, Iowa, US</td>\n",
       "    </tr>\n",
       "    <tr>\n",
       "      <th>...</th>\n",
       "      <td>...</td>\n",
       "      <td>...</td>\n",
       "      <td>...</td>\n",
       "      <td>...</td>\n",
       "      <td>...</td>\n",
       "      <td>...</td>\n",
       "      <td>...</td>\n",
       "      <td>...</td>\n",
       "      <td>...</td>\n",
       "      <td>...</td>\n",
       "      <td>...</td>\n",
       "      <td>...</td>\n",
       "    </tr>\n",
       "    <tr>\n",
       "      <th>49182</th>\n",
       "      <td>None</td>\n",
       "      <td>None</td>\n",
       "      <td>None</td>\n",
       "      <td>Venezuela</td>\n",
       "      <td>2020-03-31 23:43:43</td>\n",
       "      <td>6.423800</td>\n",
       "      <td>-66.589700</td>\n",
       "      <td>135</td>\n",
       "      <td>3</td>\n",
       "      <td>39</td>\n",
       "      <td>93</td>\n",
       "      <td>Venezuela</td>\n",
       "    </tr>\n",
       "    <tr>\n",
       "      <th>49183</th>\n",
       "      <td>None</td>\n",
       "      <td>None</td>\n",
       "      <td>None</td>\n",
       "      <td>Vietnam</td>\n",
       "      <td>2020-03-31 23:43:43</td>\n",
       "      <td>14.058324</td>\n",
       "      <td>108.277199</td>\n",
       "      <td>212</td>\n",
       "      <td>0</td>\n",
       "      <td>58</td>\n",
       "      <td>154</td>\n",
       "      <td>Vietnam</td>\n",
       "    </tr>\n",
       "    <tr>\n",
       "      <th>49184</th>\n",
       "      <td>None</td>\n",
       "      <td>None</td>\n",
       "      <td>None</td>\n",
       "      <td>West Bank and Gaza</td>\n",
       "      <td>2020-03-31 23:43:43</td>\n",
       "      <td>31.952200</td>\n",
       "      <td>35.233200</td>\n",
       "      <td>119</td>\n",
       "      <td>1</td>\n",
       "      <td>18</td>\n",
       "      <td>100</td>\n",
       "      <td>West Bank and Gaza</td>\n",
       "    </tr>\n",
       "    <tr>\n",
       "      <th>49185</th>\n",
       "      <td>None</td>\n",
       "      <td>None</td>\n",
       "      <td>None</td>\n",
       "      <td>Zambia</td>\n",
       "      <td>2020-03-31 23:43:43</td>\n",
       "      <td>-13.133897</td>\n",
       "      <td>27.849332</td>\n",
       "      <td>35</td>\n",
       "      <td>0</td>\n",
       "      <td>0</td>\n",
       "      <td>35</td>\n",
       "      <td>Zambia</td>\n",
       "    </tr>\n",
       "    <tr>\n",
       "      <th>49186</th>\n",
       "      <td>None</td>\n",
       "      <td>None</td>\n",
       "      <td>None</td>\n",
       "      <td>Zimbabwe</td>\n",
       "      <td>2020-03-31 23:43:43</td>\n",
       "      <td>-19.015438</td>\n",
       "      <td>29.154857</td>\n",
       "      <td>8</td>\n",
       "      <td>1</td>\n",
       "      <td>0</td>\n",
       "      <td>7</td>\n",
       "      <td>Zimbabwe</td>\n",
       "    </tr>\n",
       "  </tbody>\n",
       "</table>\n",
       "<p>49187 rows × 12 columns</p>\n",
       "</div>"
      ],
      "text/plain": [
       "        FIPS     Admin2  Province_State      Country_Region  \\\n",
       "0      45001  Abbeville  South Carolina                  US   \n",
       "1      22001     Acadia       Louisiana                  US   \n",
       "2      51001   Accomack        Virginia                  US   \n",
       "3      16001        Ada           Idaho                  US   \n",
       "4      19001      Adair            Iowa                  US   \n",
       "...      ...        ...             ...                 ...   \n",
       "49182   None       None            None           Venezuela   \n",
       "49183   None       None            None             Vietnam   \n",
       "49184   None       None            None  West Bank and Gaza   \n",
       "49185   None       None            None              Zambia   \n",
       "49186   None       None            None            Zimbabwe   \n",
       "\n",
       "               Last_Update   Latitude   Longitude  Confirmed  Deaths  \\\n",
       "0      2020-03-28 23:05:37  34.223334  -82.461707          3       0   \n",
       "1      2020-03-28 23:05:37  30.295065  -92.414197          9       1   \n",
       "2      2020-03-28 23:05:37  37.767072  -75.632346          2       0   \n",
       "3      2020-03-28 23:05:37  43.452658 -116.241552         76       0   \n",
       "4      2020-03-28 23:05:37  41.330756  -94.471059          1       0   \n",
       "...                    ...        ...         ...        ...     ...   \n",
       "49182  2020-03-31 23:43:43   6.423800  -66.589700        135       3   \n",
       "49183  2020-03-31 23:43:43  14.058324  108.277199        212       0   \n",
       "49184  2020-03-31 23:43:43  31.952200   35.233200        119       1   \n",
       "49185  2020-03-31 23:43:43 -13.133897   27.849332         35       0   \n",
       "49186  2020-03-31 23:43:43 -19.015438   29.154857          8       1   \n",
       "\n",
       "       Recovered  Active                   Combined_Key  \n",
       "0              0       0  Abbeville, South Carolina, US  \n",
       "1              0       0          Acadia, Louisiana, US  \n",
       "2              0       0         Accomack, Virginia, US  \n",
       "3              0       0                 Ada, Idaho, US  \n",
       "4              0       0                Adair, Iowa, US  \n",
       "...          ...     ...                            ...  \n",
       "49182         39      93                      Venezuela  \n",
       "49183         58     154                        Vietnam  \n",
       "49184         18     100             West Bank and Gaza  \n",
       "49185          0      35                         Zambia  \n",
       "49186          0       7                       Zimbabwe  \n",
       "\n",
       "[49187 rows x 12 columns]"
      ]
     },
     "execution_count": 14,
     "metadata": {},
     "output_type": "execute_result"
    }
   ],
   "source": [
    "from pyspark.sql.types import *\n",
    "\n",
    "\n",
    "daily_reports_dir = basedir + \"/csse_covid_19_daily_reports\"\n",
    "\n",
    "# New schema\n",
    "schema_2 = StructType(\n",
    "    [\n",
    "        StructField(\"FIPS\", StringType()),\n",
    "        StructField(\"Admin2\", StringType()),\n",
    "        StructField(\"Province_State\", StringType()),\n",
    "        StructField(\"Country_Region\", StringType()),\n",
    "        StructField(\"Last_Update\", StringType()),\n",
    "        StructField(\"Latitude\", DoubleType()),\n",
    "        StructField(\"Longitude\", DoubleType()),\n",
    "        StructField(\"Confirmed\", LongType()),\n",
    "        StructField(\"Deaths\", LongType()),\n",
    "        StructField(\"Recovered\", LongType()),\n",
    "        StructField(\"Active\", LongType()),\n",
    "        StructField(\"Combined_Key\", StringType()),\n",
    "    ]\n",
    ")\n",
    "\n",
    "# Generate all dates with new schema\n",
    "schema_2_dates = [\n",
    "    schema_switch_date + datetime.timedelta(days=d)\n",
    "    for d in range(0, (today - schema_switch_date).days)\n",
    "]\n",
    "# Generate file names with new schema\n",
    "schema_2_files = [\n",
    "    daily_reports_dir + \"/\" + d.strftime(\"%m-%d-%Y\") + \".csv\" for d in schema_2_dates\n",
    "]\n",
    "\n",
    "# Read in all CSV files with new schema\n",
    "cases_2 = spark.read.schema(schema_2).option(\"header\", True).csv(schema_2_files)\n",
    "\n",
    "cases_2.toPandas()"
   ]
  },
  {
   "cell_type": "markdown",
   "metadata": {},
   "source": [
    "### Unify Records\n",
    "\n",
    "Now we union both data sets `cases_1` and `cases_2` into a bigger data set with a common schema. The target schema should contain the following columns:\n",
    "* `Country_Region`\n",
    "* `Province_State`\n",
    "* `Admin2`\n",
    "* `Last_Update`\n",
    "* `Confirmed`\n",
    "* `Deaths`\n",
    "* `Recovered`\n",
    "\n",
    "In case a specific column is not present in onw of the two input DataFrames, simply provide a NULL value (`None` in Python) instead."
   ]
  },
  {
   "cell_type": "code",
   "execution_count": 15,
   "metadata": {},
   "outputs": [
    {
     "data": {
      "text/html": [
       "<div>\n",
       "<style scoped>\n",
       "    .dataframe tbody tr th:only-of-type {\n",
       "        vertical-align: middle;\n",
       "    }\n",
       "\n",
       "    .dataframe tbody tr th {\n",
       "        vertical-align: top;\n",
       "    }\n",
       "\n",
       "    .dataframe thead th {\n",
       "        text-align: right;\n",
       "    }\n",
       "</style>\n",
       "<table border=\"1\" class=\"dataframe\">\n",
       "  <thead>\n",
       "    <tr style=\"text-align: right;\">\n",
       "      <th></th>\n",
       "      <th>Country_Region</th>\n",
       "      <th>Province_State</th>\n",
       "      <th>Admin2</th>\n",
       "      <th>Last_Update</th>\n",
       "      <th>Confirmed</th>\n",
       "      <th>Deaths</th>\n",
       "      <th>Recovered</th>\n",
       "    </tr>\n",
       "  </thead>\n",
       "  <tbody>\n",
       "    <tr>\n",
       "      <th>0</th>\n",
       "      <td>China</td>\n",
       "      <td>Hubei</td>\n",
       "      <td>None</td>\n",
       "      <td>2020-03-21T10:13:08</td>\n",
       "      <td>67800.0</td>\n",
       "      <td>3139.0</td>\n",
       "      <td>58946.0</td>\n",
       "    </tr>\n",
       "    <tr>\n",
       "      <th>1</th>\n",
       "      <td>Italy</td>\n",
       "      <td>None</td>\n",
       "      <td>None</td>\n",
       "      <td>2020-03-21T17:43:03</td>\n",
       "      <td>53578.0</td>\n",
       "      <td>4825.0</td>\n",
       "      <td>6072.0</td>\n",
       "    </tr>\n",
       "    <tr>\n",
       "      <th>2</th>\n",
       "      <td>Spain</td>\n",
       "      <td>None</td>\n",
       "      <td>None</td>\n",
       "      <td>2020-03-21T13:13:30</td>\n",
       "      <td>25374.0</td>\n",
       "      <td>1375.0</td>\n",
       "      <td>2125.0</td>\n",
       "    </tr>\n",
       "    <tr>\n",
       "      <th>3</th>\n",
       "      <td>Germany</td>\n",
       "      <td>None</td>\n",
       "      <td>None</td>\n",
       "      <td>2020-03-21T20:43:02</td>\n",
       "      <td>22213.0</td>\n",
       "      <td>84.0</td>\n",
       "      <td>233.0</td>\n",
       "    </tr>\n",
       "    <tr>\n",
       "      <th>4</th>\n",
       "      <td>Iran</td>\n",
       "      <td>None</td>\n",
       "      <td>None</td>\n",
       "      <td>2020-03-21T11:13:12</td>\n",
       "      <td>20610.0</td>\n",
       "      <td>1556.0</td>\n",
       "      <td>7635.0</td>\n",
       "    </tr>\n",
       "    <tr>\n",
       "      <th>...</th>\n",
       "      <td>...</td>\n",
       "      <td>...</td>\n",
       "      <td>...</td>\n",
       "      <td>...</td>\n",
       "      <td>...</td>\n",
       "      <td>...</td>\n",
       "      <td>...</td>\n",
       "    </tr>\n",
       "    <tr>\n",
       "      <th>56799</th>\n",
       "      <td>Venezuela</td>\n",
       "      <td>None</td>\n",
       "      <td>None</td>\n",
       "      <td>2020-03-31 23:43:43</td>\n",
       "      <td>135.0</td>\n",
       "      <td>3.0</td>\n",
       "      <td>39.0</td>\n",
       "    </tr>\n",
       "    <tr>\n",
       "      <th>56800</th>\n",
       "      <td>Vietnam</td>\n",
       "      <td>None</td>\n",
       "      <td>None</td>\n",
       "      <td>2020-03-31 23:43:43</td>\n",
       "      <td>212.0</td>\n",
       "      <td>0.0</td>\n",
       "      <td>58.0</td>\n",
       "    </tr>\n",
       "    <tr>\n",
       "      <th>56801</th>\n",
       "      <td>West Bank and Gaza</td>\n",
       "      <td>None</td>\n",
       "      <td>None</td>\n",
       "      <td>2020-03-31 23:43:43</td>\n",
       "      <td>119.0</td>\n",
       "      <td>1.0</td>\n",
       "      <td>18.0</td>\n",
       "    </tr>\n",
       "    <tr>\n",
       "      <th>56802</th>\n",
       "      <td>Zambia</td>\n",
       "      <td>None</td>\n",
       "      <td>None</td>\n",
       "      <td>2020-03-31 23:43:43</td>\n",
       "      <td>35.0</td>\n",
       "      <td>0.0</td>\n",
       "      <td>0.0</td>\n",
       "    </tr>\n",
       "    <tr>\n",
       "      <th>56803</th>\n",
       "      <td>Zimbabwe</td>\n",
       "      <td>None</td>\n",
       "      <td>None</td>\n",
       "      <td>2020-03-31 23:43:43</td>\n",
       "      <td>8.0</td>\n",
       "      <td>1.0</td>\n",
       "      <td>0.0</td>\n",
       "    </tr>\n",
       "  </tbody>\n",
       "</table>\n",
       "<p>56804 rows × 7 columns</p>\n",
       "</div>"
      ],
      "text/plain": [
       "           Country_Region Province_State Admin2          Last_Update  \\\n",
       "0                   China          Hubei   None  2020-03-21T10:13:08   \n",
       "1                   Italy           None   None  2020-03-21T17:43:03   \n",
       "2                   Spain           None   None  2020-03-21T13:13:30   \n",
       "3                 Germany           None   None  2020-03-21T20:43:02   \n",
       "4                    Iran           None   None  2020-03-21T11:13:12   \n",
       "...                   ...            ...    ...                  ...   \n",
       "56799           Venezuela           None   None  2020-03-31 23:43:43   \n",
       "56800             Vietnam           None   None  2020-03-31 23:43:43   \n",
       "56801  West Bank and Gaza           None   None  2020-03-31 23:43:43   \n",
       "56802              Zambia           None   None  2020-03-31 23:43:43   \n",
       "56803            Zimbabwe           None   None  2020-03-31 23:43:43   \n",
       "\n",
       "       Confirmed  Deaths  Recovered  \n",
       "0        67800.0  3139.0    58946.0  \n",
       "1        53578.0  4825.0     6072.0  \n",
       "2        25374.0  1375.0     2125.0  \n",
       "3        22213.0    84.0      233.0  \n",
       "4        20610.0  1556.0     7635.0  \n",
       "...          ...     ...        ...  \n",
       "56799      135.0     3.0       39.0  \n",
       "56800      212.0     0.0       58.0  \n",
       "56801      119.0     1.0       18.0  \n",
       "56802       35.0     0.0        0.0  \n",
       "56803        8.0     1.0        0.0  \n",
       "\n",
       "[56804 rows x 7 columns]"
      ]
     },
     "execution_count": 15,
     "metadata": {},
     "output_type": "execute_result"
    }
   ],
   "source": [
    "all_cases = cases_1.select(\n",
    "    f.col(\"Country_Region\"),\n",
    "    f.col(\"Province_State\"),\n",
    "    f.lit(None).cast(StringType()).alias(\"Admin2\"),\n",
    "    f.col(\"Last_Update\"),\n",
    "    f.col(\"Confirmed\"),\n",
    "    f.col(\"Deaths\"),\n",
    "    f.col(\"Recovered\"),\n",
    ").union(\n",
    "    cases_2.select(\n",
    "        f.col(\"Country_Region\"),\n",
    "        f.col(\"Province_State\"),\n",
    "        f.col(\"Admin2\"),\n",
    "        f.col(\"Last_Update\"),\n",
    "        f.col(\"Confirmed\"),\n",
    "        f.col(\"Deaths\"),\n",
    "        f.col(\"Recovered\"),\n",
    "    )\n",
    ")\n",
    "\n",
    "all_cases.toPandas()"
   ]
  },
  {
   "cell_type": "markdown",
   "metadata": {},
   "source": [
    "## 1.3 Aggragate\n",
    "\n",
    "The records can contain multiple updates per day. But we only want to have the latest update per administrative region on each day. Therefore we perform a simple grouped aggregation and simply pick the maximum of all metrics of interest (`Confirmed`, `Deaths`, `Recovered`). This means we require a grouped aggregation with the grouping keys `Last_Update`, `Country_Region`, `Province_State` and `Admin2`."
   ]
  },
  {
   "cell_type": "code",
   "execution_count": 16,
   "metadata": {},
   "outputs": [
    {
     "name": "stdout",
     "output_type": "stream",
     "text": [
      "+-----------+--------------+--------------+------+---------+------+---------+\n",
      "|Last_Update|Country_Region|Province_State|Admin2|Confirmed|Deaths|Recovered|\n",
      "+-----------+--------------+--------------+------+---------+------+---------+\n",
      "| 2020-03-20|       Estonia|          null|  null|      283|     0|        1|\n",
      "| 2020-03-20|       Algeria|          null|  null|       90|    11|       32|\n",
      "| 2020-03-20|     Mauritius|          null|  null|       12|     0|        0|\n",
      "| 2020-03-19|      Slovenia|          null|  null|      286|     1|        0|\n",
      "| 2020-03-18|            US|       Indiana|  null|       39|     2|        0|\n",
      "| 2020-03-07|     Australia|      Victoria|  null|       11|     0|        7|\n",
      "| 2020-03-17|     Argentina|          null|  null|       68|     2|        3|\n",
      "| 2020-03-14|         China|      Shandong|  null|      760|     7|      741|\n",
      "| 2020-03-15|            US|      Nebraska|  null|       17|     0|        0|\n",
      "| 2020-03-12|            US|    New Mexico|  null|        5|     0|        0|\n",
      "| 2020-03-10|            US|       Indiana|  null|        6|     0|        0|\n",
      "| 2020-03-03|Mainland China|       Jiangxi|  null|      935|     1|      870|\n",
      "| 2020-03-01|Mainland China|       Tianjin|  null|      136|     3|      111|\n",
      "| 2020-03-02|Mainland China|         Gansu|  null|       91|     2|       85|\n",
      "| 2020-02-17|Mainland China|      Shanghai|  null|      333|     1|      161|\n",
      "| 2020-02-07|Mainland China|     Guangdong|  null|     1034|     1|       88|\n",
      "| 2020-02-07|Mainland China|       Guizhou|  null|       81|     1|        6|\n",
      "| 2020-02-05|Mainland China|        Shanxi|  null|       81|     0|        5|\n",
      "| 2020-01-28|Mainland China|      Zhejiang|  null|      173|  null|        3|\n",
      "| 2020-01-28|Mainland China|       Qinghai|  null|        6|  null|     null|\n",
      "+-----------+--------------+--------------+------+---------+------+---------+\n",
      "only showing top 20 rows\n",
      "\n"
     ]
    }
   ],
   "source": [
    "all_cases_eod = all_cases.groupBy(\n",
    "    parse_date(f.col(\"Last_Update\")).alias(\"Last_Update\"),\n",
    "    f.col(\"Country_Region\"),\n",
    "    f.col(\"Province_State\"),\n",
    "    f.col(\"Admin2\"),\n",
    ").agg(\n",
    "    f.max(f.col(\"Confirmed\")).alias(\"Confirmed\"),\n",
    "    f.max(f.col(\"Deaths\")).alias(\"Deaths\"),\n",
    "    f.max(f.col(\"Recovered\")).alias(\"Recovered\"),\n",
    ")\n",
    "\n",
    "all_cases_eod.show()"
   ]
  },
  {
   "cell_type": "markdown",
   "metadata": {},
   "source": [
    "## 1.4 Sanity Checks\n",
    "\n",
    "Since we have now a nice data set containing all records, lets peek inside and let us perform some sanity checks if the numbers are correct."
   ]
  },
  {
   "cell_type": "code",
   "execution_count": 17,
   "metadata": {},
   "outputs": [
    {
     "name": "stdout",
     "output_type": "stream",
     "text": [
      "+-----------+--------------+--------------+-------------+---------+------+---------+\n",
      "|Last_Update|Country_Region|Province_State|Admin2       |Confirmed|Deaths|Recovered|\n",
      "+-----------+--------------+--------------+-------------+---------+------+---------+\n",
      "|2020-04-06 |US            |New York      |New York City|72181    |3485  |0        |\n",
      "|2020-04-05 |US            |New York      |New York City|67551    |2256  |0        |\n",
      "|2020-04-04 |US            |New York      |New York City|63306    |1905  |0        |\n",
      "|2020-04-03 |US            |New York      |New York City|57159    |1584  |0        |\n",
      "|2020-04-02 |US            |New York      |New York City|51809    |1397  |0        |\n",
      "|2020-04-01 |US            |New York      |New York City|47439    |1139  |0        |\n",
      "|2020-03-31 |US            |New York      |New York City|43119    |932   |0        |\n",
      "|2020-03-30 |US            |New York      |New York City|37453    |790   |0        |\n",
      "|2020-03-29 |US            |New York      |New York City|33768    |678   |0        |\n",
      "|2020-03-28 |US            |New York      |New York City|29776    |517   |0        |\n",
      "|2020-03-27 |US            |New York      |New York City|25573    |366   |0        |\n",
      "|2020-03-26 |US            |New York      |New York City|21873    |281   |0        |\n",
      "|2020-03-25 |US            |New York      |New York City|17856    |199   |0        |\n",
      "|2020-04-06 |US            |New York      |Nassau       |15616    |162   |0        |\n",
      "|2020-03-24 |US            |New York      |New York City|14904    |131   |0        |\n",
      "|2020-04-05 |US            |New York      |Nassau       |14398    |162   |0        |\n",
      "|2020-04-06 |US            |New York      |Westchester  |14294    |211   |0        |\n",
      "|2020-04-06 |US            |New York      |Suffolk      |14185    |199   |0        |\n",
      "|2020-04-05 |US            |New York      |Westchester  |13723    |67    |0        |\n",
      "|2020-04-04 |US            |New York      |Nassau       |13346    |95    |0        |\n",
      "+-----------+--------------+--------------+-------------+---------+------+---------+\n",
      "only showing top 20 rows\n",
      "\n"
     ]
    }
   ],
   "source": [
    "all_cases_eod.where(f.col(\"Country_Region\") == f.lit(\"US\")).orderBy(\n",
    "    f.col(\"Confirmed\").desc()\n",
    ").show(truncate=False)"
   ]
  },
  {
   "cell_type": "markdown",
   "metadata": {},
   "source": [
    "### Count cases in US\n",
    "\n",
    "Let us count the cases in the US for a specific date, maybe compare it to some resource on the web. This can be done by summing up all confirmed case where `Country_Region` equals to `US` and where `Last_Update` equals some date of your choice (for example `2020-04-05`)."
   ]
  },
  {
   "cell_type": "code",
   "execution_count": 18,
   "metadata": {},
   "outputs": [
    {
     "data": {
      "text/html": [
       "<div>\n",
       "<style scoped>\n",
       "    .dataframe tbody tr th:only-of-type {\n",
       "        vertical-align: middle;\n",
       "    }\n",
       "\n",
       "    .dataframe tbody tr th {\n",
       "        vertical-align: top;\n",
       "    }\n",
       "\n",
       "    .dataframe thead th {\n",
       "        text-align: right;\n",
       "    }\n",
       "</style>\n",
       "<table border=\"1\" class=\"dataframe\">\n",
       "  <thead>\n",
       "    <tr style=\"text-align: right;\">\n",
       "      <th></th>\n",
       "      <th>sum(Confirmed)</th>\n",
       "    </tr>\n",
       "  </thead>\n",
       "  <tbody>\n",
       "    <tr>\n",
       "      <th>0</th>\n",
       "      <td>337072</td>\n",
       "    </tr>\n",
       "  </tbody>\n",
       "</table>\n",
       "</div>"
      ],
      "text/plain": [
       "   sum(Confirmed)\n",
       "0          337072"
      ]
     },
     "execution_count": 18,
     "metadata": {},
     "output_type": "execute_result"
    }
   ],
   "source": [
    "all_cases_eod.where(f.col(\"Country_Region\") == f.lit(\"US\")).where(\n",
    "    f.col(\"Last_Update\") == f.lit(\"2020-04-05\")\n",
    ").select(f.sum(f.col(\"Confirmed\"))).toPandas()"
   ]
  },
  {
   "cell_type": "markdown",
   "metadata": {},
   "source": [
    "### Count cases in Germany\n",
    "\n",
    "Let us now sum up the confirmed cases for Germany."
   ]
  },
  {
   "cell_type": "code",
   "execution_count": 19,
   "metadata": {},
   "outputs": [
    {
     "data": {
      "text/html": [
       "<div>\n",
       "<style scoped>\n",
       "    .dataframe tbody tr th:only-of-type {\n",
       "        vertical-align: middle;\n",
       "    }\n",
       "\n",
       "    .dataframe tbody tr th {\n",
       "        vertical-align: top;\n",
       "    }\n",
       "\n",
       "    .dataframe thead th {\n",
       "        text-align: right;\n",
       "    }\n",
       "</style>\n",
       "<table border=\"1\" class=\"dataframe\">\n",
       "  <thead>\n",
       "    <tr style=\"text-align: right;\">\n",
       "      <th></th>\n",
       "      <th>sum(Confirmed)</th>\n",
       "    </tr>\n",
       "  </thead>\n",
       "  <tbody>\n",
       "    <tr>\n",
       "      <th>0</th>\n",
       "      <td>103374</td>\n",
       "    </tr>\n",
       "  </tbody>\n",
       "</table>\n",
       "</div>"
      ],
      "text/plain": [
       "   sum(Confirmed)\n",
       "0          103374"
      ]
     },
     "execution_count": 19,
     "metadata": {},
     "output_type": "execute_result"
    }
   ],
   "source": [
    "all_cases_eod.where(f.col(\"Country_Region\") == f.lit(\"Germany\")).where(\n",
    "    f.col(\"Last_Update\") == f.lit(\"2020-04-06\")\n",
    ").select(f.sum(f.col(\"Confirmed\"))).toPandas()"
   ]
  },
  {
   "cell_type": "markdown",
   "metadata": {},
   "source": [
    "# 2. Inspect & Visualize\n",
    "\n",
    "Now that we have a meaningful dataset, let us create some visualizations."
   ]
  },
  {
   "cell_type": "markdown",
   "metadata": {},
   "source": [
    "## 2.1 Additional Preparations\n",
    "\n",
    "Before doing deeper analyzis, we still need to perform some simple preparations in order to make the resuls more meaningful."
   ]
  },
  {
   "cell_type": "markdown",
   "metadata": {},
   "source": [
    "### Cases pre country and day\n",
    "\n",
    "We are not interested in the specific numbers of different provinces or states within a single country. The problem with data per province is that they may contain too few cases for following any theoretical law or for forming any meaningful probability distribution. Therefore we sum up all cases per country per day."
   ]
  },
  {
   "cell_type": "code",
   "execution_count": 20,
   "metadata": {},
   "outputs": [],
   "source": [
    "all_country_cases = all_cases_eod.groupBy(\"Country_Region\", \"Last_Update\").agg(\n",
    "    f.sum(f.col(\"Confirmed\")).alias(\"Confirmed\"),\n",
    "    f.sum(f.col(\"Deaths\")).alias(\"Deaths\"),\n",
    "    f.sum(f.col(\"Recovered\")).alias(\"Recovered\"),\n",
    ")"
   ]
  },
  {
   "cell_type": "markdown",
   "metadata": {},
   "source": [
    "### Calculate age in days\n",
    "\n",
    "Before continuing, we will add one extra column, namely the day of the epedemy for every country. The desease started on different dates in different countries (start being defined as the date of the first record in the data set). To be able to compare the development of the desease between different countries, it is advisable to add a country specific `day` column, which simply counts the days since the first infection in the particular country."
   ]
  },
  {
   "cell_type": "code",
   "execution_count": 21,
   "metadata": {},
   "outputs": [
    {
     "name": "stdout",
     "output_type": "stream",
     "text": [
      "+--------------+-----------+---------+------+---------+------------+---+\n",
      "|Country_Region|Last_Update|Confirmed|Deaths|Recovered|First_Update|day|\n",
      "+--------------+-----------+---------+------+---------+------------+---+\n",
      "|          Chad| 2020-03-19|        1|     0|        0|  2020-03-19|  0|\n",
      "|          Chad| 2020-03-21|        1|     0|        0|  2020-03-19|  2|\n",
      "|          Chad| 2020-03-22|        1|     0|        0|  2020-03-19|  3|\n",
      "|          Chad| 2020-03-23|        1|     0|        0|  2020-03-19|  4|\n",
      "|          Chad| 2020-03-24|        3|     0|        0|  2020-03-19|  5|\n",
      "|          Chad| 2020-03-25|        3|     0|        0|  2020-03-19|  6|\n",
      "|          Chad| 2020-03-26|        3|     0|        0|  2020-03-19|  7|\n",
      "|          Chad| 2020-03-27|        3|     0|        0|  2020-03-19|  8|\n",
      "|          Chad| 2020-03-28|        3|     0|        0|  2020-03-19|  9|\n",
      "|          Chad| 2020-03-29|        3|     0|        0|  2020-03-19| 10|\n",
      "|          Chad| 2020-03-30|        5|     0|        0|  2020-03-19| 11|\n",
      "|          Chad| 2020-03-31|        7|     0|        0|  2020-03-19| 12|\n",
      "|          Chad| 2020-04-01|        7|     0|        0|  2020-03-19| 13|\n",
      "|          Chad| 2020-04-02|        8|     0|        0|  2020-03-19| 14|\n",
      "|          Chad| 2020-04-03|        8|     0|        0|  2020-03-19| 15|\n",
      "|          Chad| 2020-04-04|        9|     0|        0|  2020-03-19| 16|\n",
      "|          Chad| 2020-04-05|        9|     0|        0|  2020-03-19| 17|\n",
      "|          Chad| 2020-04-06|        9|     0|        0|  2020-03-19| 18|\n",
      "|      Paraguay| 2020-03-08|        1|     0|        0|  2020-03-08|  0|\n",
      "|      Paraguay| 2020-03-11|        6|     0|        0|  2020-03-08|  3|\n",
      "+--------------+-----------+---------+------+---------+------------+---+\n",
      "only showing top 20 rows\n",
      "\n"
     ]
    }
   ],
   "source": [
    "from pyspark.sql.window import Window\n",
    "\n",
    "\n",
    "all_countries_age_cases = all_country_cases.withColumn(\n",
    "    \"First_Update\",\n",
    "    f.min(f.col(\"Last_Update\")).over(\n",
    "        Window.partitionBy(\"Country_Region\").orderBy(\"Last_Update\")\n",
    "    ),\n",
    ").withColumn(\"day\", f.datediff(f.col(\"Last_Update\"), f.col(\"First_Update\")))\n",
    "\n",
    "all_countries_age_cases.show()"
   ]
  },
  {
   "cell_type": "markdown",
   "metadata": {},
   "source": [
    "## 2.2 Pick single country\n",
    "\n",
    "For the whole analysis, we focus on a single country. I decided to pick Germany, but you can also pick a different country.\n",
    "\n",
    "The selection can easily be done by filtering using the column `Country_Region` to contain the desired country (for example `Germany`)."
   ]
  },
  {
   "cell_type": "code",
   "execution_count": 22,
   "metadata": {},
   "outputs": [
    {
     "name": "stdout",
     "output_type": "stream",
     "text": [
      "+--------------+-----------+---------+------+---------+------------+---+\n",
      "|Country_Region|Last_Update|Confirmed|Deaths|Recovered|First_Update|day|\n",
      "+--------------+-----------+---------+------+---------+------------+---+\n",
      "|       Germany| 2020-01-28|        4|  null|     null|  2020-01-28|  0|\n",
      "|       Germany| 2020-01-29|        4|  null|     null|  2020-01-28|  1|\n",
      "|       Germany| 2020-01-30|        4|  null|     null|  2020-01-28|  2|\n",
      "|       Germany| 2020-01-31|        5|  null|     null|  2020-01-28|  3|\n",
      "|       Germany| 2020-02-01|        8|     0|        0|  2020-01-28|  4|\n",
      "|       Germany| 2020-02-02|       10|     0|        0|  2020-01-28|  5|\n",
      "|       Germany| 2020-02-03|       12|     0|        0|  2020-01-28|  6|\n",
      "|       Germany| 2020-02-07|       13|     0|        0|  2020-01-28| 10|\n",
      "|       Germany| 2020-02-09|       14|     0|        0|  2020-01-28| 12|\n",
      "|       Germany| 2020-02-11|       16|     0|        0|  2020-01-28| 14|\n",
      "+--------------+-----------+---------+------+---------+------------+---+\n",
      "only showing top 10 rows\n",
      "\n"
     ]
    }
   ],
   "source": [
    "country_cases = all_countries_age_cases.where(f.col(\"Country_Region\") == \"Germany\")\n",
    "\n",
    "# Show first 10 days of data in the correct order\n",
    "country_cases.orderBy(f.col(\"day\")).show(10)"
   ]
  },
  {
   "cell_type": "markdown",
   "metadata": {},
   "source": [
    "## 2.3 Plot\n",
    "\n",
    "Let us make a simple plot which shows the number of cases over time. This can be achieved by using the matplotlib function `plt.plot`, which takes two arguments: the data on the horizontal axis (x-axis) and the data on the vertical axis (y-axis). One can also specify the size of the plot by using the function `plt.figure` as below."
   ]
  },
  {
   "cell_type": "code",
   "execution_count": 23,
   "metadata": {},
   "outputs": [
    {
     "data": {
      "text/plain": [
       "[<matplotlib.lines.Line2D at 0x7ff769836410>]"
      ]
     },
     "execution_count": 23,
     "metadata": {},
     "output_type": "execute_result"
    },
    {
     "data": {
      "image/png": "[encoded data removed]",
      "text/plain": [
       "<Figure size 1280x480 with 1 Axes>"
      ]
     },
     "metadata": {},
     "output_type": "display_data"
    }
   ],
   "source": [
    "df = country_cases.toPandas()\n",
    "\n",
    "# Set size of the figure\n",
    "plt.figure(figsize=(16, 6), dpi=80, facecolor='w', edgecolor='k')\n",
    "\n",
    "# Make an image usig plt.plot\n",
    "plt.plot(df[\"day\"], df[\"Confirmed\"])"
   ]
  },
  {
   "cell_type": "markdown",
   "metadata": {},
   "source": [
    "### Plot on logarithmic scale\n",
    "\n",
    "The spread of a epedemy follows an exponential pattern (specifically at the beginning), this can also be seen from the plot above. Therefore it is a good idea to change the scale from a linear scale to a logarithmic scale. With the logarithmic scale, you can spot the relativ rate of increase, which is the slope of the curve. Changing the scale can easily be done with the function `plt.yscale('log')`."
   ]
  },
  {
   "cell_type": "code",
   "execution_count": 24,
   "metadata": {},
   "outputs": [
    {
     "data": {
      "text/plain": [
       "[<matplotlib.lines.Line2D at 0x7ff7693c0c90>]"
      ]
     },
     "execution_count": 24,
     "metadata": {},
     "output_type": "execute_result"
    },
    {
     "data": {
      "image/png": "[encoded data removed]",
      "text/plain": [
       "<Figure size 1280x480 with 1 Axes>"
      ]
     },
     "metadata": {},
     "output_type": "display_data"
    }
   ],
   "source": [
    "df = country_cases.toPandas()\n",
    "\n",
    "plt.figure(figsize=(16, 6), dpi=80, facecolor='w', edgecolor='k')\n",
    "plt.yscale('log')\n",
    "plt.plot(df[\"day\"], df[\"Confirmed\"], color='blue', lw=2)"
   ]
  },
  {
   "cell_type": "markdown",
   "metadata": {},
   "source": [
    "### Plot of daily increases\n",
    "\n",
    "In this case, we are also interested in the number of new cases on every day. This means, that we need to subtract the current number of confirmed cases from the last number of confirmed cases. This is a good example where so called *windowed aggregation* can help us in PySpark. Normally all rows of a DataFrame are processed independently, but for this question (the difference of the number of confirmed cases between two days), we would need to access the rows from two different days. That can be done with window functions."
   ]
  },
  {
   "cell_type": "code",
   "execution_count": 25,
   "metadata": {},
   "outputs": [
    {
     "name": "stdout",
     "output_type": "stream",
     "text": [
      "+--------------+-----------+---------+------+---------+------------+---+------------------+\n",
      "|Country_Region|Last_Update|Confirmed|Deaths|Recovered|First_Update|day|Confirmed_Increase|\n",
      "+--------------+-----------+---------+------+---------+------------+---+------------------+\n",
      "|       Germany| 2020-01-28|        4|  null|     null|  2020-01-28|  0|              null|\n",
      "|       Germany| 2020-01-29|        4|  null|     null|  2020-01-28|  1|                 0|\n",
      "|       Germany| 2020-01-30|        4|  null|     null|  2020-01-28|  2|                 0|\n",
      "|       Germany| 2020-01-31|        5|  null|     null|  2020-01-28|  3|                 1|\n",
      "|       Germany| 2020-02-01|        8|     0|        0|  2020-01-28|  4|                 3|\n",
      "|       Germany| 2020-02-02|       10|     0|        0|  2020-01-28|  5|                 2|\n",
      "|       Germany| 2020-02-03|       12|     0|        0|  2020-01-28|  6|                 2|\n",
      "|       Germany| 2020-02-07|       13|     0|        0|  2020-01-28| 10|                 1|\n",
      "|       Germany| 2020-02-09|       14|     0|        0|  2020-01-28| 12|                 1|\n",
      "|       Germany| 2020-02-11|       16|     0|        0|  2020-01-28| 14|                 2|\n",
      "+--------------+-----------+---------+------+---------+------------+---+------------------+\n",
      "only showing top 10 rows\n",
      "\n"
     ]
    }
   ],
   "source": [
    "daily_increase = country_cases.withColumn(\n",
    "    \"Confirmed_Increase\",\n",
    "    f.col(\"Confirmed\")\n",
    "    - f.last(f.col(\"Confirmed\")).over(\n",
    "        Window.partitionBy(\"Country_Region\").orderBy(\"day\").rowsBetween(-100, -1)\n",
    "    ),\n",
    ")\n",
    "\n",
    "daily_increase.show(10)"
   ]
  },
  {
   "cell_type": "markdown",
   "metadata": {},
   "source": [
    "Now we have an additional column \"Confirmed_Increase\", which we can now plot. A continuous line plot doesn't make so much sense, since the metric is very discrete by its nature. Therefore we opt for a bar chart instead by using the method `plt.bar` instead of `plt.plot`."
   ]
  },
  {
   "cell_type": "code",
   "execution_count": 26,
   "metadata": {},
   "outputs": [
    {
     "data": {
      "text/plain": [
       "<BarContainer object of 54 artists>"
      ]
     },
     "execution_count": 26,
     "metadata": {},
     "output_type": "execute_result"
    },
    {
     "data": {
      "image/png": "[encoded data removed]",
      "text/plain": [
       "<Figure size 1280x480 with 1 Axes>"
      ]
     },
     "metadata": {},
     "output_type": "display_data"
    }
   ],
   "source": [
    "df = daily_increase.toPandas()\n",
    "\n",
    "plt.figure(figsize=(16, 6), dpi=80, facecolor='w', edgecolor='k')\n",
    "plt.bar(df[\"day\"], df[\"Confirmed_Increase\"], color='blue', lw=2)"
   ]
  },
  {
   "cell_type": "markdown",
   "metadata": {},
   "source": [
    "# 3. Machine Learning\n",
    "\n",
    "Now we want to use some methods of machine learning in order to predict the further development of the desease within a single country."
   ]
  },
  {
   "cell_type": "code",
   "execution_count": 40,
   "metadata": {},
   "outputs": [],
   "source": [
    "# Import relevant packages\n",
    "from pyspark.ml import *\n",
    "from pyspark.ml.evaluation import *\n",
    "from pyspark.ml.feature import *\n",
    "from pyspark.ml.regression import *"
   ]
  },
  {
   "cell_type": "markdown",
   "metadata": {},
   "source": [
    "## 3.1 Split Data\n",
    "\n",
    "The very first step in every machine learning project is to split up the whole data into two data sets, the *training data* and the *validation data*. The basic idea is that in order to validate our model, we need some data that was not used during training. That is what the *validation data* will be used for. If we did not exclude the data from the training, we could only infer information about how good the model fits to our data - but we would have no information about how good the model copes with new data. And the second aspect is crucial in prediction applications, where the model will be used on new data points which have never been seen before.\n",
    "\n",
    "There are different approaches how to do that, but not all approaches work in every scenario. In our use case we are looking at a time series, therefore we need to split the data at a specific date - we need to hide out some information for the training phase. For time series it is important not to perform a random sampling, since this would imply information creep from the future. I.e. if we exclude day 40 and include day 50 in our training data set, day 50 obviously has some information on day 40, which normally would not be available."
   ]
  },
  {
   "cell_type": "code",
   "execution_count": 28,
   "metadata": {},
   "outputs": [
    {
     "name": "stdout",
     "output_type": "stream",
     "text": [
      "cut_day = 53\n"
     ]
    }
   ],
   "source": [
    "all_days = country_cases.select(\"day\").orderBy(f.col(\"day\")).distinct().collect()\n",
    "all_days = [row[0] for row in all_days]\n",
    "num_days = len(all_days)\n",
    "cut_day = all_days[int(0.7 * num_days)]\n",
    "print(\"cut_day = \" + str(cut_day))\n",
    "\n",
    "# We might want to skip some days where there was no real growth\n",
    "first_day = 28\n",
    "\n",
    "# Select training records from first_day until cut_day (inclusive)\n",
    "training_records = country_cases.where(\n",
    "    (f.col(\"day\") <= cut_day) & (f.col(\"day\") >= first_day)\n",
    ").cache()\n",
    "\n",
    "# Select validation records from cut_day (exclusive)\n",
    "validation_records = country_cases.where(f.col(\"day\") > cut_day).cache()"
   ]
  },
  {
   "cell_type": "markdown",
   "metadata": {},
   "source": [
    "## 3.2 Simple Regression\n",
    "\n",
    "The most simple approach is to use a very basic linear regression. We skip this super simple approach, since we already know that our data has some exponential ingredients. Therefore we already use a so called *generalized linear model* (GLM), which transforms our values into a logarithmic space before performing a linear regression. Here we already know that this won't work out nicely, since the plots above already indicate a curved shape over time - something a trivial linear model cannot catch. We will take care of that in a later step."
   ]
  },
  {
   "cell_type": "markdown",
   "metadata": {},
   "source": [
    "### PySpark ML Pipelines\n",
    "\n",
    "Spark ML encourages to use so called *pipelines*, which combine a list of transformation blocks. For the very first very simple example, we need two building blocks:\n",
    "* `VectorAssembler` is required to collect all features into a single column of the special type `Vector`. Most machine learning algorithms require the independant variables (the predictor variables) to packaged together into a single column of type `Vector`. This can be easily done by using the `VectorAssembler`-\n",
    "* `GeneralizedLinearRegression` provides the regression algorithm a a building block. It needs to be configured with the indepedant variable (the features column), the dependant variable (the label column) and the prediction column where the predictions should be stored in."
   ]
  },
  {
   "cell_type": "code",
   "execution_count": 36,
   "metadata": {},
   "outputs": [],
   "source": [
    "pipeline = Pipeline(\n",
    "    stages=[\n",
    "        VectorAssembler(inputCols=[\"day\"], outputCol=\"features\"),\n",
    "        GeneralizedLinearRegression(\n",
    "            family=\"gaussian\",\n",
    "            link=\"log\",\n",
    "            featuresCol=\"features\",\n",
    "            labelCol=\"Confirmed\",\n",
    "            predictionCol=\"Predict\",\n",
    "        ),\n",
    "    ]\n",
    ")"
   ]
  },
  {
   "cell_type": "markdown",
   "metadata": {},
   "source": [
    "### Fit model\n",
    "\n",
    "Once we have specified all building blocks in the pipeline, we can *fit* the whole pipeline to obtain a *pipeline model*. The fitting operation either applies a transformation (like the `VectorAssembler`) or recursively fits any embedded estimator (like the `GeneralizedLinearRegression`)."
   ]
  },
  {
   "cell_type": "code",
   "execution_count": 37,
   "metadata": {},
   "outputs": [],
   "source": [
    "model = pipeline.fit(training_records)"
   ]
  },
  {
   "cell_type": "markdown",
   "metadata": {},
   "source": [
    "### Perform prediction\n",
    "\n",
    "One we have obtained the model, it can be used as a transformer again in order to produce predictions. For plotting a graph, we will apply the model not only to the validation set, but to the whole data set. This can be done with the `model.transform` method applied to the `country_cases` DataFrame."
   ]
  },
  {
   "cell_type": "code",
   "execution_count": 38,
   "metadata": {},
   "outputs": [],
   "source": [
    "pred = model.transform(country_cases)"
   ]
  },
  {
   "cell_type": "markdown",
   "metadata": {},
   "source": [
    "### Visualize\n",
    "\n",
    "Finally we want to visualize the real values and the predictions."
   ]
  },
  {
   "cell_type": "code",
   "execution_count": 39,
   "metadata": {},
   "outputs": [
    {
     "data": {
      "text/plain": [
       "<matplotlib.collections.LineCollection at 0x7ff769546650>"
      ]
     },
     "execution_count": 39,
     "metadata": {},
     "output_type": "execute_result"
    },
    {
     "data": {
      "image/png": "[encoded data removed]",
      "text/plain": [
       "<Figure size 1280x480 with 1 Axes>"
      ]
     },
     "metadata": {},
     "output_type": "display_data"
    }
   ],
   "source": [
    "df = pred.toPandas()\n",
    "\n",
    "plt.figure(figsize=(16, 6), dpi=80, facecolor='w', edgecolor='k')\n",
    "plt.yscale('log')\n",
    "plt.plot(df[\"day\"], df[\"Confirmed\"], color='blue', lw=2)\n",
    "plt.plot(df[\"day\"], df[\"Predict\"], color='red', lw=2)\n",
    "plt.vlines(cut_day, ymin=0, ymax=400000)"
   ]
  },
  {
   "cell_type": "markdown",
   "metadata": {},
   "source": [
    "### Measure Perfrmance\n",
    "\n",
    "The picture already doesn't make much hope that the model generalizes well to new data. But in order to compare different models, we should also quantify the fit. We use a built in metric called *root mean squared error* provided by the class `RegressionEvaluator`. One an instance of the class is created, you can evaluate the predictions by using the `evaluate` function.\n",
    "\n",
    "Since we are only interested in the ability to generalize, we use the `validation_records` DataFrame for measuring the qulity of fit."
   ]
  },
  {
   "cell_type": "code",
   "execution_count": 42,
   "metadata": {},
   "outputs": [
    {
     "data": {
      "text/plain": [
       "305993.01182450756"
      ]
     },
     "execution_count": 42,
     "metadata": {},
     "output_type": "execute_result"
    }
   ],
   "source": [
    "evaluator = RegressionEvaluator(\n",
    "    predictionCol='Predict', labelCol='Confirmed', metricName='rmse'\n",
    ")\n",
    "\n",
    "pred = model.transform(validation_records)\n",
    "evaluator.evaluate(pred)"
   ]
  },
  {
   "cell_type": "markdown",
   "metadata": {},
   "source": [
    "## 3.3 Improve Model\n",
    "\n",
    "The first shot is not very satisfactory, specifically if looking at the logarithmic plot. The data seems to describe a curve (which is good), we could try to fit a polynom of order 2. This means that we will use (day^2, day, const) as features. This *polynomial expansion* of the original feature `day` can be generated by the `PolynomialExpansion` feature transformer.\n",
    "\n",
    "This means that we will slightly extend our pipeline as follows."
   ]
  },
  {
   "cell_type": "code",
   "execution_count": 43,
   "metadata": {},
   "outputs": [],
   "source": [
    "pipeline = Pipeline(\n",
    "    stages=[\n",
    "        VectorAssembler(inputCols=[\"day\"], outputCol=\"day_vec\"),\n",
    "        PolynomialExpansion(inputCol=\"day_vec\", outputCol=\"features\", degree=2),\n",
    "        GeneralizedLinearRegression(\n",
    "            family=\"gaussian\",\n",
    "            link=\"log\",\n",
    "            featuresCol=\"features\",\n",
    "            labelCol=\"Confirmed\",\n",
    "            predictionCol=\"Predict\",\n",
    "        ),\n",
    "    ]\n",
    ")"
   ]
  },
  {
   "cell_type": "markdown",
   "metadata": {},
   "source": [
    "### Fit and predict\n",
    "\n",
    "Now we will again fit the pipeline to retrieve a model and immediately apply the model to all cases in order to get the data for another plot."
   ]
  },
  {
   "cell_type": "code",
   "execution_count": 44,
   "metadata": {},
   "outputs": [],
   "source": [
    "model = pipeline.fit(training_records)\n",
    "pred = model.transform(country_cases)"
   ]
  },
  {
   "cell_type": "markdown",
   "metadata": {},
   "source": [
    "### Visualize\n",
    "\n",
    "The next visualization looks better, especially the critical part of the graph is estimated much better. Note that we did not use data before day 28, since there was no real growth before that day.\n",
    "\n",
    "Note that our predicted values are above the measured values. This can mean multiple things:\n",
    "* *Pessimist*: Our model does not perform as good as desired\n",
    "* *Optimist*: Actions taken by politics change the real model parameters in a favorable way, such that the real number of infections do not grow any more as predicted"
   ]
  },
  {
   "cell_type": "code",
   "execution_count": 45,
   "metadata": {},
   "outputs": [
    {
     "data": {
      "text/plain": [
       "<matplotlib.collections.LineCollection at 0x7ff767aefed0>"
      ]
     },
     "execution_count": 45,
     "metadata": {},
     "output_type": "execute_result"
    },
    {
     "data": {
      "image/png": "[encoded data removed]",
      "text/plain": [
       "<Figure size 1280x480 with 1 Axes>"
      ]
     },
     "metadata": {},
     "output_type": "display_data"
    }
   ],
   "source": [
    "df = pred.toPandas()\n",
    "\n",
    "plt.figure(figsize=(16, 6), dpi=80, facecolor='w', edgecolor='k')\n",
    "plt.yscale('log')\n",
    "plt.plot(df[\"day\"], df[\"Confirmed\"], color='blue', lw=2)\n",
    "plt.plot(df[\"day\"], df[\"Predict\"], color='red', lw=2)\n",
    "plt.vlines(cut_day, ymin=0, ymax=400000)"
   ]
  },
  {
   "cell_type": "markdown",
   "metadata": {},
   "source": [
    "Although the image looks quite promising on the logarithmic scale, let us have a look at the linear scale. We will notice that we overpredict the number of cases by a factor of two and our prediction will look even worse for the future."
   ]
  },
  {
   "cell_type": "code",
   "execution_count": 46,
   "metadata": {},
   "outputs": [
    {
     "data": {
      "text/plain": [
       "<matplotlib.collections.LineCollection at 0x7ff767a93c50>"
      ]
     },
     "execution_count": 46,
     "metadata": {},
     "output_type": "execute_result"
    },
    {
     "data": {
      "image/png": "[encoded data removed]",
      "text/plain": [
       "<Figure size 1280x480 with 1 Axes>"
      ]
     },
     "metadata": {},
     "output_type": "display_data"
    }
   ],
   "source": [
    "df = pred.toPandas()\n",
    "\n",
    "plt.figure(figsize=(16, 6), dpi=80, facecolor='w', edgecolor='k')\n",
    "plt.plot(df[\"day\"], df[\"Confirmed\"], color='blue', lw=2)\n",
    "plt.plot(df[\"day\"], df[\"Predict\"], color='red', lw=2)\n",
    "plt.vlines(cut_day, ymin=0, ymax=300000)"
   ]
  },
  {
   "cell_type": "markdown",
   "metadata": {},
   "source": [
    "### Measure performance\n",
    "\n",
    "Again we will use the `RegressionEvaluator` as before to quantify the prediction error. The error should be much lower now."
   ]
  },
  {
   "cell_type": "code",
   "execution_count": 47,
   "metadata": {},
   "outputs": [
    {
     "data": {
      "text/plain": [
       "57023.45764704682"
      ]
     },
     "execution_count": 47,
     "metadata": {},
     "output_type": "execute_result"
    }
   ],
   "source": [
    "evaluator = RegressionEvaluator(\n",
    "    predictionCol='Predict', labelCol='Confirmed', metricName='rmse'\n",
    ")\n",
    "\n",
    "pred = model.transform(validation_records)\n",
    "evaluator.evaluate(pred)"
   ]
  },
  {
   "cell_type": "markdown",
   "metadata": {},
   "source": [
    "## 3.5 Change training/validation split\n",
    "\n",
    "If we change the split of training to validation, things look much better. Of course this might be already expected, since we predict less data, but even the non-logarithmic plot looks really good"
   ]
  },
  {
   "cell_type": "code",
   "execution_count": 49,
   "metadata": {},
   "outputs": [
    {
     "name": "stdout",
     "output_type": "stream",
     "text": [
      "cut_day = 59\n"
     ]
    }
   ],
   "source": [
    "# Use 80% for training\n",
    "cut_day = all_days[int(0.8 * num_days)]\n",
    "print(\"cut_day = \" + str(cut_day))\n",
    "\n",
    "training_records_80 = country_cases.where(\n",
    "    (f.col(\"day\") <= cut_day) & (f.col(\"day\") >= first_day)\n",
    ").cache()\n",
    "validation_records_80 = country_cases.where(f.col(\"day\") > cut_day).cache()"
   ]
  },
  {
   "cell_type": "code",
   "execution_count": 50,
   "metadata": {},
   "outputs": [],
   "source": [
    "model = pipeline.fit(training_records_80)\n",
    "pred = model.transform(country_cases)"
   ]
  },
  {
   "cell_type": "code",
   "execution_count": 51,
   "metadata": {},
   "outputs": [
    {
     "data": {
      "text/plain": [
       "<matplotlib.collections.LineCollection at 0x7ff76876fa90>"
      ]
     },
     "execution_count": 51,
     "metadata": {},
     "output_type": "execute_result"
    },
    {
     "data": {
      "image/png": "[encoded data removed]",
      "text/plain": [
       "<Figure size 1280x480 with 1 Axes>"
      ]
     },
     "metadata": {},
     "output_type": "display_data"
    }
   ],
   "source": [
    "df = pred.toPandas()\n",
    "\n",
    "plt.figure(figsize=(16, 6), dpi=80, facecolor='w', edgecolor='k')\n",
    "plt.plot(df[\"day\"], df[\"Confirmed\"], color='blue', lw=2)\n",
    "plt.plot(df[\"day\"], df[\"Predict\"], color='red', lw=2)\n",
    "plt.vlines(cut_day, ymin=0, ymax=120000)"
   ]
  },
  {
   "cell_type": "markdown",
   "metadata": {},
   "source": [
    "This result should let you look optimistic into the future, as it may indicate that the underlying process really has changed between day 50 and 60 and that the infection really slows down."
   ]
  },
  {
   "cell_type": "markdown",
   "metadata": {},
   "source": [
    "### Measure performance\n",
    "\n",
    "Again we will use the `RegressionEvaluator` as before to quantify the prediction error. The error should be much lower now."
   ]
  },
  {
   "cell_type": "code",
   "execution_count": 52,
   "metadata": {},
   "outputs": [
    {
     "data": {
      "text/plain": [
       "2256.344606690299"
      ]
     },
     "execution_count": 52,
     "metadata": {},
     "output_type": "execute_result"
    }
   ],
   "source": [
    "evaluator = RegressionEvaluator(\n",
    "    predictionCol='Predict', labelCol='Confirmed', metricName='rmse'\n",
    ")\n",
    "\n",
    "pred = model.transform(validation_records)\n",
    "evaluator.evaluate(pred)"
   ]
  },
  {
   "cell_type": "markdown",
   "metadata": {},
   "source": [
    "# 4. Final Note\n",
    "\n",
    "As already mentioned in the beginning, the whole approach is somewhat questionable. We are throwing a very generic machinery at a very specific problem which has a very specific structure. Therefore other approaches involving more meaningful models like https://de.wikipedia.org/wiki/SIR-Modell could give better prediction results. But those models require a completely different numerical approach for fitting the model to the data. We used the tool at hand (in this case PySpark) to generate a model, which does only make very mild (and possibly wrong) assumptions about the development process of the desease. Nevertheless such approaches might also give good results, since on the other hand specific mathematical models also rely on very specific assumptions and simplifications, which may also not be justified."
   ]
  },
  {
   "cell_type": "code",
   "execution_count": null,
   "metadata": {},
   "outputs": [],
   "source": []
  }
 ],
 "metadata": {
  "kernelspec": {
   "display_name": "Python 3",
   "language": "python",
   "name": "python3"
  },
  "language_info": {
   "codemirror_mode": {
    "name": "ipython",
    "version": 3
   },
   "file_extension": ".py",
   "mimetype": "text/x-python",
   "name": "python",
   "nbconvert_exporter": "python",
   "pygments_lexer": "ipython3",
   "version": "3.7.6"
  }
 },
 "nbformat": 4,
 "nbformat_minor": 4
}
