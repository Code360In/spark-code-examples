{
 "cells": [
  {
   "cell_type": "markdown",
   "metadata": {},
   "source": [
    "# Weather Data Analytics\n",
    "This notebook performs some basic weather data analytics using the PySpark RDD interface."
   ]
  },
  {
   "cell_type": "markdown",
   "metadata": {},
   "source": [
    "## Helper Methods\n",
    "First we need some helper methods for converting the raw data into something that we can work with. We decide to use Python dictionaries instead of classes, since custom classes cannot be used within Zeppelin due to serialization issues"
   ]
  },
  {
   "cell_type": "code",
   "execution_count": null,
   "metadata": {},
   "outputs": [],
   "source": [
    "def _get_float(str):\n",
    "    \"\"\"\n",
    "    Helper method for converting a string to a float. If this is not possible, None will be returned instead\n",
    "    \"\"\"\n",
    "    if len(str) == 0:\n",
    "        return None\n",
    "    try:\n",
    "        return float(str)\n",
    "    except ValueError:\n",
    "        return None\n",
    "\n",
    "\n",
    "def extract_station(line):\n",
    "    \"\"\"\n",
    "    Extract weather station data from a raw CSV line\n",
    "    \"\"\"\n",
    "    raw_columns = line.split(',')\n",
    "    columns = [c.replace('\"','') for c in raw_columns]\n",
    "\n",
    "    usaf = columns[0]\n",
    "    wban = columns[1]\n",
    "    name = columns[2]\n",
    "    country = columns[3]\n",
    "    state = columns[4]\n",
    "    icao = columns[5]\n",
    "    latitude = _get_float(columns[6])\n",
    "    longitude = _get_float(columns[7])\n",
    "    elevation = _get_float(columns[8])\n",
    "    date_begin = columns[9]\n",
    "    date_end = columns[10]\n",
    "    return {\n",
    "            'usaf':usaf, \n",
    "            'wban':wban, \n",
    "            'name':name,\n",
    "            'country':country, \n",
    "            'state':state, \n",
    "            'icao':icao, \n",
    "            'latitude':latitude, \n",
    "            'longitude':longitude, \n",
    "            'elevation':elevation, \n",
    "            'date_begin':date_begin, \n",
    "            'date_end':date_end \n",
    "           }\n",
    "\n",
    "\n",
    "def extract_weather(line):\n",
    "    \"\"\"\n",
    "    Extract weather data from a raw data line.\n",
    "    \"\"\"\n",
    "    date = line[15:23]\n",
    "    time = line[23:27]\n",
    "    usaf = line[4:10]\n",
    "    wban = line[10:15]\n",
    "    airTemperatureQuality = line[92] == '1'\n",
    "    airTemperature = float(line[87:92]) / 10\n",
    "    windSpeedQuality = line[69] == '1'\n",
    "    windSpeed = float(line[65:69]) / 10\n",
    "    return {\n",
    "            'date':date, \n",
    "            'time':time, \n",
    "            'usaf':usaf, \n",
    "            'wban':wban, \n",
    "            'airTemperatureQuality':airTemperatureQuality, \n",
    "            'airTemperature':airTemperature, \n",
    "            'windSpeedQuality':windSpeedQuality, \n",
    "            'windSpeed':windSpeed \n",
    "        }"
   ]
  },
  {
   "cell_type": "markdown",
   "metadata": {},
   "source": [
    "## Test extraction methods"
   ]
  },
  {
   "cell_type": "code",
   "execution_count": null,
   "metadata": {},
   "outputs": [],
   "source": [
    "# Load stations from 's3://dimajix-training/data/weather/isd-history'. \n",
    "# Transform the data into Python dictionary using extract_station\n",
    "# YOUR CODE HERE\n",
    "stations = ...\n",
    "\n",
    "# Print a couple of elements from the transformed RDD\n",
    "for s in stations.take(5):\n",
    "    print(s)"
   ]
  },
  {
   "cell_type": "code",
   "execution_count": null,
   "metadata": {},
   "outputs": [],
   "source": [
    "# Load weather from 's3://dimajix-training/data/weather/2014'. \n",
    "# Transform the data into Python dictionary using extract_weather\n",
    "# YOUR CODE HERE\n",
    "weather = ...\n",
    "\n",
    "# Print a couple of elements from the transformed RDD\n",
    "..."
   ]
  },
  {
   "cell_type": "markdown",
   "metadata": {},
   "source": [
    "# Join Data Sets\n",
    "\n",
    "In order to analyse the data, we need to join the weather data with the station data, so we can get more detailed information where the weather actually was recorded."
   ]
  },
  {
   "cell_type": "code",
   "execution_count": null,
   "metadata": {},
   "outputs": [],
   "source": [
    "# Create a key for every weather station using the values for 'usaf' and 'wban' from every record. This can be done using the keyBy method.\n",
    "station_index = ...\n",
    "\n",
    "# Create a key for every weather measurement element using the values for 'usaf' and 'wban' from every record. This can be done using the keyBy method.\n",
    "weather_index = ...\n",
    "\n",
    "# Now join weather and stations together using the keyed data. This can be done using the join method\n",
    "joined_weather = ...\n",
    "\n",
    "# Print some elements from joined_weather.\n",
    "for d in ...:\n",
    "    print(d)"
   ]
  },
  {
   "cell_type": "markdown",
   "metadata": {},
   "source": [
    "## Caching Data\n",
    "\n",
    "The join was really expensive. Before continuing you might want to cache the data and give it a nice name (for example \"joined weather data\") before continuing with the next steps."
   ]
  },
  {
   "cell_type": "code",
   "execution_count": null,
   "metadata": {},
   "outputs": [],
   "source": [
    "# Cache the data for next operations\n",
    "# YOUR CODE HERE"
   ]
  },
  {
   "cell_type": "markdown",
   "metadata": {},
   "source": [
    "## Create appropriate Keys\n",
    "We want to analyze the data grouped by country and year. So we need to create appropriate keys.\n",
    "\n",
    "This will be done using a helper methid extract_country_year_weather, which should return a tuple\n",
    "\n",
    "    ((country, year), weather)\n",
    "\n",
    "for every record in joined_weather.\n",
    "\n",
    "Pay attention to the layout of the elements in joined_weather, as can been see from the output above"
   ]
  },
  {
   "cell_type": "code",
   "execution_count": null,
   "metadata": {},
   "outputs": [],
   "source": [
    "def extract_country_year_weather(data):\n",
    "    # data is a nested tuple, so we first need to extract the weather and the station data\n",
    "    station = ...\n",
    "    weather = ...\n",
    "    # Now extract country from station\n",
    "    country = ...\n",
    "    # and the year from the weather measurement data\n",
    "    year =  ...\n",
    "    return ((country, year), weather)\n",
    "\n",
    "# Perform extraction\n",
    "weather_per_country_and_year = joined_weather.map(extract_country_year_weather)"
   ]
  },
  {
   "cell_type": "markdown",
   "metadata": {},
   "source": [
    "## Perform Aggregation\n",
    "We want to extract minimum and maximum of wind speed and of temperature per year and country (i.e. using the joined data above). We also want to consider cases where data is not valid (i.e. windSpeedQuality is False or airTemperature is False).\n",
    "\n",
    "We will implement custom aggregation functions that work on dictionaries"
   ]
  },
  {
   "cell_type": "code",
   "execution_count": null,
   "metadata": {},
   "outputs": [],
   "source": [
    "def nullsafe_min(a, b):\n",
    "    \"\"\"\n",
    "    Helper method for taking the min of two values. Also gracefully handles None values\n",
    "    \"\"\"\n",
    "    from builtins import min\n",
    "    if a is None:\n",
    "        return b\n",
    "    if b is None:\n",
    "        return a\n",
    "    return min(a,b)\n",
    "\n",
    "\n",
    "def nullsafe_max(a, b):\n",
    "    \"\"\"\n",
    "    Helper method for taking the max of two values. Also gracefully handles None values\n",
    "    \"\"\"\n",
    "    from builtins import max\n",
    "    if a is None:\n",
    "        return b\n",
    "    if b is None:\n",
    "        return a\n",
    "    return max(a, b)\n",
    "\n",
    "\n",
    "# Neutral value used in aggregation\n",
    "# YOUR CODE HERE\n",
    "zero_wmm = { 'minTemperature':None, ... }\n",
    "\n",
    "\n",
    "def reduce_wmm(wmm, data):\n",
    "    \"\"\"\n",
    "    Used for merging in a new weather data set into an existing min/max dictionary. The incoming\n",
    "    objects will not be modified, instead a new object will be returned.\n",
    "    :param wmm: A Python dictionary representing min/max information\n",
    "    :param data: A Python dictionary representring weather measurement information\n",
    "    :returns: A new Python dictionary representing min/max information\n",
    "    \"\"\"\n",
    "    # YOUR CODE HERE\n",
    "    minTemperature = ...\n",
    "    maxTemperature = ...\n",
    "    minWindSpeed = ...\n",
    "    maxWindSpeed = ...\n",
    "    \n",
    "    return { 'minTemperature':minTemperature, ... }\n",
    "\n",
    "\n",
    "def combine_wmm(left, right):\n",
    "    \"\"\"\n",
    "    Used for combining two dictionaries into a new min/max dictionary dictionary\n",
    "    :param self: First Python dictionary representing min/max information\n",
    "    :param other: Second Python dictionary representing min/max information\n",
    "    :returns: A new Python dictionary representing combined min/max information\n",
    "    \"\"\"\n",
    "    # YOUR CODE HERE\n",
    "    minTemperature = ...\n",
    "    maxTemperature = ...\n",
    "    minWindSpeed = ...\n",
    "    maxWindSpeed = ...\n",
    "\n",
    "    return { 'minTemperature':minTemperature, ... }"
   ]
  },
  {
   "cell_type": "code",
   "execution_count": null,
   "metadata": {},
   "outputs": [],
   "source": [
    "# Aggregate min/max information per year and country\n",
    "weather_minmax = weather_per_country_and_year.aggregateByKey(zero_wmm,reduce_wmm, combine_wmm)\n",
    "\n",
    "for m in weather_minmax.take(5):\n",
    "    print(m)"
   ]
  },
  {
   "cell_type": "markdown",
   "metadata": {},
   "source": [
    "# Format Output\n",
    "\n",
    "We want to create CSV data, so we need to reformat the Python dicts to nicely looking strings"
   ]
  },
  {
   "cell_type": "code",
   "execution_count": null,
   "metadata": {},
   "outputs": [],
   "source": [
    "def format_result(row):\n",
    "    # Every row contains the key and the data.\n",
    "    #   key is (country, year)\n",
    "    #   value is Python dictionary containing min/max information\n",
    "    (k,v) = row\n",
    "    # Create a CSV line containing 'country,year,minTemperature,maxTemperature,minWindSpeed,maxWindSpeed'\n",
    "    # YOUR CODE HERE\n",
    "    line = ...\n",
    "    # Encode as UTF-8, or we might experience some problems\n",
    "    return line.encode('utf-8')\n",
    "\n",
    "# Apply the function format_result to all records in the RDD weather_minmax\n",
    "result = ...\n",
    "\n",
    "for l in result:\n",
    "    print(l)"
   ]
  },
  {
   "cell_type": "code",
   "execution_count": null,
   "metadata": {},
   "outputs": [],
   "source": []
  }
 ],
 "metadata": {
  "anaconda-cloud": {},
  "kernelspec": {
   "display_name": "Python [Root]",
   "language": "python",
   "name": "Python [Root]"
  },
  "language_info": {
   "codemirror_mode": {
    "name": "ipython",
    "version": 3.0
   },
   "file_extension": ".py",
   "mimetype": "text/x-python",
   "name": "python",
   "nbconvert_exporter": "python",
   "pygments_lexer": "ipython3",
   "version": "3.5.2"
  }
 },
 "nbformat": 4,
 "nbformat_minor": 0
}
