{
 "cells": [
  {
   "cell_type": "markdown",
   "metadata": {},
   "source": [
    "# Weather Data Analytics\n",
    "This notebook performs some basic weather data analytics using the PySpark RDD interface."
   ]
  },
  {
   "cell_type": "markdown",
   "metadata": {},
   "source": [
    "## Helper Methods\n",
    "First we need some helper methods for converting the raw data into something that we can work with. We decide to use Python dictionaries instead of classes, since custom classes cannot be used within Zeppelin due to serialization issues"
   ]
  },
  {
   "cell_type": "code",
   "execution_count": 1,
   "metadata": {},
   "outputs": [],
   "source": [
    "def _get_float(str):\n",
    "    \"\"\"\n",
    "    Helper method for converting a string to a float. If this is not possible, None will be returned instead\n",
    "    \"\"\"\n",
    "    if len(str) == 0:\n",
    "        return None\n",
    "    try:\n",
    "        return float(str)\n",
    "    except ValueError:\n",
    "        return None\n",
    "\n",
    "\n",
    "def extract_station(line):\n",
    "    \"\"\"\n",
    "    Extract weather station data from a raw CSV line\n",
    "    \"\"\"\n",
    "    raw_columns = line.split(',')\n",
    "    columns = [c.replace('\"', '') for c in raw_columns]\n",
    "\n",
    "    usaf = columns[0]\n",
    "    wban = columns[1]\n",
    "    name = columns[2]\n",
    "    country = columns[3]\n",
    "    state = columns[4]\n",
    "    icao = columns[5]\n",
    "    latitude = _get_float(columns[6])\n",
    "    longitude = _get_float(columns[7])\n",
    "    elevation = _get_float(columns[8])\n",
    "    date_begin = columns[9]\n",
    "    date_end = columns[10]\n",
    "    return {\n",
    "        'usaf': usaf,\n",
    "        'wban': wban,\n",
    "        'name': name,\n",
    "        'country': country,\n",
    "        'state': state,\n",
    "        'icao': icao,\n",
    "        'latitude': latitude,\n",
    "        'longitude': longitude,\n",
    "        'elevation': elevation,\n",
    "        'date_begin': date_begin,\n",
    "        'date_end': date_end,\n",
    "    }\n",
    "\n",
    "\n",
    "def extract_weather(line):\n",
    "    \"\"\"\n",
    "    Extract weather data from a raw data line.\n",
    "    \"\"\"\n",
    "    date = line[15:23]\n",
    "    time = line[23:27]\n",
    "    usaf = line[4:10]\n",
    "    wban = line[10:15]\n",
    "    airTemperatureQuality = line[92] == '1'\n",
    "    airTemperature = float(line[87:92]) / 10\n",
    "    windSpeedQuality = line[69] == '1'\n",
    "    windSpeed = float(line[65:69]) / 10\n",
    "    return {\n",
    "        'date': date,\n",
    "        'time': time,\n",
    "        'usaf': usaf,\n",
    "        'wban': wban,\n",
    "        'airTemperatureQuality': airTemperatureQuality,\n",
    "        'airTemperature': airTemperature,\n",
    "        'windSpeedQuality': windSpeedQuality,\n",
    "        'windSpeed': windSpeed,\n",
    "    }"
   ]
  },
  {
   "cell_type": "markdown",
   "metadata": {},
   "source": [
    "## Test extraction methods"
   ]
  },
  {
   "cell_type": "code",
   "execution_count": 2,
   "metadata": {},
   "outputs": [
    {
     "name": "stdout",
     "output_type": "stream",
     "text": [
      "{'latitude': None, 'state': 'STATE', 'wban': 'WBAN', 'name': 'STATION NAME', 'usaf': 'USAF', 'date_end': 'END', 'date_begin': 'BEGIN', 'longitude': None, 'country': 'CTRY', 'icao': 'ICAO', 'elevation': None}\n",
      "{'latitude': None, 'state': '', 'wban': '99999', 'name': 'CWOS 07005', 'usaf': '007005', 'date_end': '20120127', 'date_begin': '20120127', 'longitude': None, 'country': '', 'icao': '', 'elevation': None}\n",
      "{'latitude': None, 'state': '', 'wban': '99999', 'name': 'CWOS 07011', 'usaf': '007011', 'date_end': '20121129', 'date_begin': '20111025', 'longitude': None, 'country': '', 'icao': '', 'elevation': None}\n",
      "{'latitude': 0.0, 'state': '', 'wban': '99999', 'name': 'WXPOD 7018', 'usaf': '007018', 'date_end': '20130730', 'date_begin': '20110309', 'longitude': 0.0, 'country': '', 'icao': '', 'elevation': 7018.0}\n",
      "{'latitude': None, 'state': '', 'wban': '99999', 'name': 'CWOS 07025', 'usaf': '007025', 'date_end': '20120127', 'date_begin': '20120127', 'longitude': None, 'country': '', 'icao': '', 'elevation': None}\n"
     ]
    }
   ],
   "source": [
    "# Load stations from 's3://dimajix-training/data/weather/isd-history'.\n",
    "# Transform the data into Python dictionary using extract_station\n",
    "stations = sc.textFile('s3://dimajix-training/data/weather/isd-history').map(\n",
    "    extract_station\n",
    ")\n",
    "\n",
    "# Print a couple of elements from the transformed RDD\n",
    "for s in stations.take(5):\n",
    "    print(s)"
   ]
  },
  {
   "cell_type": "code",
   "execution_count": 3,
   "metadata": {},
   "outputs": [
    {
     "name": "stdout",
     "output_type": "stream",
     "text": [
      "{'wban': '99999', 'windSpeedQuality': True, 'usaf': '010060', 'airTemperatureQuality': True, 'date': '20140101', 'windSpeed': 3.0, 'airTemperature': -13.6, 'time': '0100'}\n",
      "{'wban': '99999', 'windSpeedQuality': True, 'usaf': '010060', 'airTemperatureQuality': True, 'date': '20140101', 'windSpeed': 2.0, 'airTemperature': -14.2, 'time': '0200'}\n",
      "{'wban': '99999', 'windSpeedQuality': True, 'usaf': '010060', 'airTemperatureQuality': True, 'date': '20140101', 'windSpeed': 4.0, 'airTemperature': -10.7, 'time': '0400'}\n",
      "{'wban': '99999', 'windSpeedQuality': True, 'usaf': '010060', 'airTemperatureQuality': True, 'date': '20140101', 'windSpeed': 3.0, 'airTemperature': -11.2, 'time': '0500'}\n",
      "{'wban': '99999', 'windSpeedQuality': True, 'usaf': '010060', 'airTemperatureQuality': True, 'date': '20140101', 'windSpeed': 5.0, 'airTemperature': -10.0, 'time': '0600'}\n"
     ]
    }
   ],
   "source": [
    "# Load weather from 's3://dimajix-training/data/weather/2014'.\n",
    "# Transform the data into Python dictionary using extract_weather\n",
    "weather = sc.textFile('s3://dimajix-training/data/weather/2014').map(extract_weather)\n",
    "\n",
    "# Print a couple of elements from the transformed RDD\n",
    "for w in weather.take(5):\n",
    "    print(w)"
   ]
  },
  {
   "cell_type": "markdown",
   "metadata": {},
   "source": [
    "# Join Data Sets\n",
    "\n",
    "In order to analyse the data, we need to join the weather data with the station data, so we can get more detailed information where the weather actually was recorded."
   ]
  },
  {
   "cell_type": "code",
   "execution_count": 4,
   "metadata": {},
   "outputs": [
    {
     "name": "stdout",
     "output_type": "stream",
     "text": [
      "('72427303804', ({'wban': '03804', 'windSpeedQuality': False, 'usaf': '724273', 'airTemperatureQuality': False, 'date': '20140101', 'windSpeed': 1.5, 'airTemperature': -2.2, 'time': '0053'}, {'state': 'WV', 'wban': '03804', 'name': 'MID-OHIO VALLEY REGIONAL AIRPORT', 'usaf': '724273', 'date_end': '20151122', 'latitude': 39.2, 'longitude': -81.27, 'date_begin': '19900208', 'country': 'US', 'icao': 'KPKB', 'elevation': 253.3}))\n",
      "('72427303804', ({'wban': '03804', 'windSpeedQuality': False, 'usaf': '724273', 'airTemperatureQuality': False, 'date': '20140101', 'windSpeed': 1.5, 'airTemperature': -2.2, 'time': '0153'}, {'state': 'WV', 'wban': '03804', 'name': 'MID-OHIO VALLEY REGIONAL AIRPORT', 'usaf': '724273', 'date_end': '20151122', 'latitude': 39.2, 'longitude': -81.27, 'date_begin': '19900208', 'country': 'US', 'icao': 'KPKB', 'elevation': 253.3}))\n",
      "('72427303804', ({'wban': '03804', 'windSpeedQuality': False, 'usaf': '724273', 'airTemperatureQuality': False, 'date': '20140101', 'windSpeed': 1.5, 'airTemperature': -3.3, 'time': '0253'}, {'state': 'WV', 'wban': '03804', 'name': 'MID-OHIO VALLEY REGIONAL AIRPORT', 'usaf': '724273', 'date_end': '20151122', 'latitude': 39.2, 'longitude': -81.27, 'date_begin': '19900208', 'country': 'US', 'icao': 'KPKB', 'elevation': 253.3}))\n",
      "('72427303804', ({'wban': '03804', 'windSpeedQuality': False, 'usaf': '724273', 'airTemperatureQuality': False, 'date': '20140101', 'windSpeed': 0.0, 'airTemperature': -3.3, 'time': '0353'}, {'state': 'WV', 'wban': '03804', 'name': 'MID-OHIO VALLEY REGIONAL AIRPORT', 'usaf': '724273', 'date_end': '20151122', 'latitude': 39.2, 'longitude': -81.27, 'date_begin': '19900208', 'country': 'US', 'icao': 'KPKB', 'elevation': 253.3}))\n",
      "('72427303804', ({'wban': '03804', 'windSpeedQuality': False, 'usaf': '724273', 'airTemperatureQuality': False, 'date': '20140101', 'windSpeed': 2.6, 'airTemperature': -2.8, 'time': '0453'}, {'state': 'WV', 'wban': '03804', 'name': 'MID-OHIO VALLEY REGIONAL AIRPORT', 'usaf': '724273', 'date_end': '20151122', 'latitude': 39.2, 'longitude': -81.27, 'date_begin': '19900208', 'country': 'US', 'icao': 'KPKB', 'elevation': 253.3}))\n"
     ]
    }
   ],
   "source": [
    "# Create a key for every weather station using the values for 'usaf' and 'wban' from every record.\n",
    "# This can be done using the keyBy method.\n",
    "station_index = stations.keyBy(lambda data: data['usaf'] + data['wban'])\n",
    "\n",
    "# Create a key for every weather measurement element using the values for 'usaf' and 'wban' from every record.\n",
    "# This can be done using the keyBy method.\n",
    "weather_index = weather.keyBy(lambda data: data['usaf'] + data['wban'])\n",
    "\n",
    "# Now join weather and stations together using the keyed data. This can be done using the join method\n",
    "joined_weather = weather_index.join(station_index)\n",
    "\n",
    "# Print some elements from joined_weather.\n",
    "for d in joined_weather.take(5):\n",
    "    print(d)"
   ]
  },
  {
   "cell_type": "markdown",
   "metadata": {},
   "source": [
    "## Caching Data\n",
    "\n",
    "The join was really expensive. Before continuing you might want to cache the data and give it a nice name (for example \"joined weather data\") before continuing with the next steps."
   ]
  },
  {
   "cell_type": "code",
   "execution_count": 5,
   "metadata": {},
   "outputs": [
    {
     "data": {
      "text/plain": [
       "joined weather data PythonRDD[14] at RDD at PythonRDD.scala:43"
      ]
     },
     "execution_count": 5,
     "output_type": "execute_result",
     "metadata": {}
    }
   ],
   "source": [
    "# Cache the data for next operations\n",
    "joined_weather.setName(\"joined weather data\").cache()"
   ]
  },
  {
   "cell_type": "markdown",
   "metadata": {},
   "source": [
    "## Create appropriate Keys\n",
    "We want to analyze the data grouped by country and year. So we need to create appropriate keys.\n",
    "\n",
    "This will be done using a helper methid extract_country_year_weather, which should return a tuple\n",
    "\n",
    "    ((country, year), weather)\n",
    "\n",
    "for every record in joined_weather.\n",
    "\n",
    "Pay attention to the layout of the elements in joined_weather, as can been see from the output above"
   ]
  },
  {
   "cell_type": "code",
   "execution_count": 6,
   "metadata": {},
   "outputs": [],
   "source": [
    "def extract_country_year_weather(data):\n",
    "    # data is a nested tuple, so we first need to extract the weather and the station data\n",
    "    station = data[1][1]\n",
    "    weather = data[1][0]\n",
    "    # Now extract country from station\n",
    "    country = station['country']\n",
    "    # and the year from the weather measurement data\n",
    "    year = weather['date'][0:4]\n",
    "    return ((country, year), weather)\n",
    "\n",
    "\n",
    "weather_per_country_and_year = joined_weather.map(extract_country_year_weather)"
   ]
  },
  {
   "cell_type": "markdown",
   "metadata": {},
   "source": [
    "## Perform Aggregation\n",
    "We want to extract minimum and maximum of wind speed and of temperature per year and country (i.e. using the joined data above). We also want to consider cases where data is not valid (i.e. windSpeedQuality is False or airTemperature is False).\n",
    "\n",
    "We will implement custom aggregation functions that work on dictionaries"
   ]
  },
  {
   "cell_type": "code",
   "execution_count": 7,
   "metadata": {},
   "outputs": [],
   "source": [
    "def nullsafe_min(a, b):\n",
    "    \"\"\"\n",
    "    Helper method for taking the min of two values. Also gracefully handles None values\n",
    "    \"\"\"\n",
    "    from builtins import min\n",
    "\n",
    "    if a is None:\n",
    "        return b\n",
    "    if b is None:\n",
    "        return a\n",
    "    return min(a, b)\n",
    "\n",
    "\n",
    "def nullsafe_max(a, b):\n",
    "    \"\"\"\n",
    "    Helper method for taking the max of two values. Also gracefully handles None values\n",
    "    \"\"\"\n",
    "    from builtins import max\n",
    "\n",
    "    if a is None:\n",
    "        return b\n",
    "    if b is None:\n",
    "        return a\n",
    "    return max(a, b)\n",
    "\n",
    "\n",
    "# Neutral value used in aggregation\n",
    "zero_wmm = {\n",
    "    'minTemperature': None,\n",
    "    'maxTemperature': None,\n",
    "    'minWindSpeed': None,\n",
    "    'maxWindSpeed': None,\n",
    "}\n",
    "\n",
    "\n",
    "def reduce_wmm(wmm, data):\n",
    "    \"\"\"\n",
    "    Used for merging in a new weather data set into an existing WeatherMinMax object. The incoming\n",
    "    objects will not be modified, instead a new object will be returned.\n",
    "    :param wmm: A Python dictionary representing min/max information\n",
    "    :param data: A Python dictionary representring weather measurement information\n",
    "    :returns: A new Python dictionary representing min/max information\n",
    "    \"\"\"\n",
    "    if data['airTemperatureQuality']:\n",
    "        minTemperature = nullsafe_min(wmm['minTemperature'], data['airTemperature'])\n",
    "        maxTemperature = nullsafe_max(wmm['maxTemperature'], data['airTemperature'])\n",
    "    else:\n",
    "        minTemperature = wmm['minTemperature']\n",
    "        maxTemperature = wmm['maxTemperature']\n",
    "\n",
    "    if data['windSpeedQuality']:\n",
    "        minWindSpeed = nullsafe_min(wmm['minWindSpeed'], data['windSpeed'])\n",
    "        maxWindSpeed = nullsafe_max(wmm['maxWindSpeed'], data['windSpeed'])\n",
    "    else:\n",
    "        minWindSpeed = wmm['minWindSpeed']\n",
    "        maxWindSpeed = wmm['maxWindSpeed']\n",
    "\n",
    "    return {\n",
    "        'minTemperature': minTemperature,\n",
    "        'maxTemperature': maxTemperature,\n",
    "        'minWindSpeed': minWindSpeed,\n",
    "        'maxWindSpeed': maxWindSpeed,\n",
    "    }\n",
    "\n",
    "\n",
    "def combine_wmm(left, right):\n",
    "    \"\"\"\n",
    "    Used for combining two WeatherMinMax objects into a new WeatherMinMax object\n",
    "    :param self: First Python dictionary representing min/max information\n",
    "    :param other: Second Python dictionary representing min/max information\n",
    "    :returns: A new Python dictionary representing combined min/max information\n",
    "    \"\"\"\n",
    "    minTemperature = nullsafe_min(left['minTemperature'], right['minTemperature'])\n",
    "    maxTemperature = nullsafe_max(left['maxTemperature'], right['maxTemperature'])\n",
    "    minWindSpeed = nullsafe_min(left['minWindSpeed'], right['minWindSpeed'])\n",
    "    maxWindSpeed = nullsafe_max(left['maxWindSpeed'], right['maxWindSpeed'])\n",
    "\n",
    "    return {\n",
    "        'minTemperature': minTemperature,\n",
    "        'maxTemperature': maxTemperature,\n",
    "        'minWindSpeed': minWindSpeed,\n",
    "        'maxWindSpeed': maxWindSpeed,\n",
    "    }"
   ]
  },
  {
   "cell_type": "code",
   "execution_count": 8,
   "metadata": {},
   "outputs": [
    {
     "name": "stdout",
     "output_type": "stream",
     "text": [
      "(('FI', '2014'), {'maxWindSpeed': 18.0, 'minTemperature': -28.6, 'maxTemperature': 30.3, 'minWindSpeed': 0.0})\n",
      "(('BE', '2014'), {'maxWindSpeed': 16.0, 'minTemperature': -7.0, 'maxTemperature': 33.1, 'minWindSpeed': 0.0})\n",
      "(('DA', '2014'), {'maxWindSpeed': 17.0, 'minTemperature': -9.0, 'minWindSpeed': 0.0, 'maxTemperature': 30.2})\n",
      "(('US', '2014'), {'maxWindSpeed': 31.0, 'minTemperature': -37.2, 'maxTemperature': 41.2, 'minWindSpeed': 0.0})\n",
      "(('IC', '2014'), {'maxWindSpeed': 29.3, 'minTemperature': -7.0, 'minWindSpeed': 0.0, 'maxTemperature': 18.0})\n"
     ]
    }
   ],
   "source": [
    "# Aggregate min/max information per year and country\n",
    "weather_minmax = weather_per_country_and_year.aggregateByKey(\n",
    "    zero_wmm, reduce_wmm, combine_wmm\n",
    ")\n",
    "\n",
    "for m in weather_minmax.take(5):\n",
    "    print(m)"
   ]
  },
  {
   "cell_type": "markdown",
   "metadata": {},
   "source": [
    "# Format Output\n",
    "\n",
    "We want to create CSV data, so we need to reformat the Python dicts to nicely looking strings"
   ]
  },
  {
   "cell_type": "code",
   "execution_count": 9,
   "metadata": {},
   "outputs": [
    {
     "name": "stdout",
     "output_type": "stream",
     "text": [
      "b'FI,2014,-28.600000,30.300000,0.000000,18.000000'\n",
      "b'BE,2014,-7.000000,33.100000,0.000000,16.000000'\n",
      "b'DA,2014,-9.000000,30.200000,0.000000,17.000000'\n",
      "b'US,2014,-37.200000,41.200000,0.000000,31.000000'\n",
      "b'IC,2014,-7.000000,18.000000,0.000000,29.300000'\n",
      "b'AU,2014,-11.000000,34.000000,0.000000,16.500000'\n",
      "b'CH,2014,11.000000,34.000000,0.000000,15.000000'\n",
      "b'SF,2014,0.900000,37.400000,0.000000,13.400000'\n",
      "b'AS,2014,0.900000,45.600000,0.000000,14.400000'\n",
      "b'UK,2014,-6.000000,30.400000,0.000000,20.600000'\n",
      "b'PO,2014,-1.000000,32.000000,0.000000,15.400000'\n",
      "b'LU,2014,-10.000000,32.100000,0.000000,13.400000'\n",
      "b'NL,2014,-9.000000,35.000000,0.000000,27.300000'\n",
      "b'PL,2014,-15.000000,32.000000,0.000000,14.900000'\n",
      "b'GM,2014,-9.000000,31.000000,0.000000,13.400000'\n",
      "b'SC,2014,20.000000,32.000000,0.000000,30.400000'\n",
      "b'SW,2014,-34.500000,28.900000,1.000000,16.000000'\n",
      "b'AM,2014,-19.000000,39.000000,0.000000,16.000000'\n",
      "b'NO,2014,-35.700000,32.000000,0.000000,35.500000'\n",
      "b'FR,2014,-9.000000,36.100000,0.000000,16.500000'\n",
      "b'EZ,2014,-15.000000,33.000000,0.000000,16.500000'\n",
      "b'GK,2014,2.000000,24.000000,0.000000,21.100000'\n",
      "b'CA,2014,-43.600000,35.900000,0.000000,26.800000'\n",
      "b'RS,2014,-28.900000,30.500000,0.000000,11.000000'\n",
      "b'JA,2014,-0.500000,33.900000,0.000000,19.600000'\n",
      "b'IT,2014,-6.800000,24.000000,0.000000,20.600000'\n",
      "b'MY,2014,19.000000,36.000000,0.000000,9.800000'\n"
     ]
    }
   ],
   "source": [
    "def format_result(row):\n",
    "    # Every row contains the key and the data.\n",
    "    #   key is (country, year)\n",
    "    #   value is Python dictionary containing min/max information\n",
    "    (k, v) = row\n",
    "    country = k[0]\n",
    "    year = k[1]\n",
    "    minT = v['minTemperature'] or 0.0\n",
    "    maxT = v['maxTemperature'] or 0.0\n",
    "    minW = v['minWindSpeed'] or 0.0\n",
    "    maxW = v['maxWindSpeed'] or 0.0\n",
    "    # Create a CSV line containing 'country,year,minTemperature,maxTemperature,minWindSpeed,maxWindSpeed'\n",
    "    line = \"%s,%s,%f,%f,%f,%f\" % (country, year, minT, maxT, minW, maxW)\n",
    "    # Encode as UTF-8, or we might experience some problems\n",
    "    return line.encode('utf-8')\n",
    "\n",
    "\n",
    "result = weather_minmax.map(format_result).collect()\n",
    "\n",
    "for l in result:\n",
    "    print(l)"
   ]
  },
  {
   "cell_type": "markdown",
   "metadata": {},
   "source": [
    "# Bonus: Process all Years"
   ]
  },
  {
   "cell_type": "code",
   "execution_count": null,
   "metadata": {},
   "outputs": [],
   "source": [
    "def load_year(year):\n",
    "    dirname = 'data/weather/%d' % year\n",
    "    return sc.textFile(dirname).map(extract_weather)\n",
    "\n",
    "\n",
    "years_data = [load_year(year) for year in range(2004, 2015)]\n",
    "all_weather_data = sc.union(years_data)\n",
    "\n",
    "weather_index = all_weather_data.keyBy(lambda data: data['usaf'] + data['wban'])\n",
    "\n",
    "# Now join weather and stations together using the keyed data. This can be done using the join method\n",
    "joined_weather = weather_index.join(station_index)\n",
    "weather_per_country_and_year = joined_weather.map(extract_country_year_weather)\n",
    "weather_minmax = weather_per_country_and_year.aggregateByKey(\n",
    "    zero_wmm, reduce_wmm, combine_wmm\n",
    ")\n",
    "result = weather_minmax.map(format_result).collect()\n",
    "\n",
    "for l in result:\n",
    "    print(l)"
   ]
  },
  {
   "cell_type": "code",
   "execution_count": null,
   "metadata": {},
   "outputs": [],
   "source": []
  }
 ],
 "metadata": {
  "anaconda-cloud": {},
  "kernelspec": {
   "display_name": "Python [Root]",
   "language": "python",
   "name": "Python [Root]"
  },
  "language_info": {
   "codemirror_mode": {
    "name": "ipython",
    "version": 3.0
   },
   "file_extension": ".py",
   "mimetype": "text/x-python",
   "name": "python",
   "nbconvert_exporter": "python",
   "pygments_lexer": "ipython3",
   "version": "3.5.2"
  }
 },
 "nbformat": 4,
 "nbformat_minor": 0
}
