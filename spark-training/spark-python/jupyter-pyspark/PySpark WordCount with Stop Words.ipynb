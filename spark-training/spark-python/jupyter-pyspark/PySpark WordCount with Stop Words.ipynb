{
 "cells": [
  {
   "cell_type": "markdown",
   "metadata": {},
   "source": [
    "# Using Broadcast Variables and Accumulators\n",
    "\n",
    "This small tutorial enhances the WordCount exmaple by stop words, i.e. words that should be ignored. We will apply two techniques in this example:\n",
    "1. Broadcast Variables. As the name already suggests, data will be transported to all workers in the cluster.\n",
    "2. Accumulators. Those are handy counter variables which can be used to derive some processing metrics"
   ]
  },
  {
   "cell_type": "code",
   "execution_count": 2,
   "metadata": {},
   "outputs": [],
   "source": [
    "# First define a list of uninteresting words, the stop words\n",
    "stopwords = frozenset(['a','the','an','it','is','are'])\n",
    "\n",
    "# Broadcast this list to all worker processes in the cluster\n",
    "stopwords_bc = sc.broadcast(stopwords)\n",
    "\n",
    "# Create two accumulators for counting processed words\n",
    "stopword_count = sc.accumulator(0)\n",
    "regular_count = sc.accumulator(0)\n",
    "\n",
    "# Define a filter function\n",
    "def filter_word(w):\n",
    "    # Check if a given word is in the list of stopwords\n",
    "    if w in stopwords_bc.value:\n",
    "        stopword_count.add(1)\n",
    "        return False\n",
    "    else:\n",
    "        regular_count.add(1)\n",
    "        return True"
   ]
  },
  {
   "cell_type": "code",
   "execution_count": 3,
   "metadata": {},
   "outputs": [],
   "source": [
    "text = sc.textFile('s3://dimajix-training/data/alice')\n",
    "words = text.flatMap(lambda x: x.split()) \\\n",
    "    .filter(filter_word) \\\n",
    "    .map(lambda x: (x,1)) \\\n",
    "    .reduceByKey(lambda x,y: x+y) \\\n",
    "    .sortBy(lambda x: x[1], ascending=False) \\\n",
    "    .map(lambda (k,v): k + ':' + str(v))\n",
    "words.saveAsTextFile('alice_counts')"
   ]
  },
  {
   "cell_type": "code",
   "execution_count": 4,
   "metadata": {},
   "outputs": [
    {
     "name": "stdout",
     "output_type": "stream",
     "text": [
      "2881\n",
      "26580\n"
     ]
    }
   ],
   "source": [
    "# Print processing metrics\n",
    "print stopword_count.value\n",
    "print regular_count.value"
   ]
  },
  {
   "cell_type": "code",
   "execution_count": null,
   "metadata": {},
   "outputs": [],
   "source": []
  }
 ],
 "metadata": {
  "kernelspec": {
   "display_name": "Python 2",
   "language": "python",
   "name": "python2"
  },
  "language_info": {
   "codemirror_mode": {
    "name": "ipython",
    "version": 2.0
   },
   "file_extension": ".py",
   "mimetype": "text/x-python",
   "name": "python",
   "nbconvert_exporter": "python",
   "pygments_lexer": "ipython2",
   "version": "2.7.11"
  }
 },
 "nbformat": 4,
 "nbformat_minor": 0
}
