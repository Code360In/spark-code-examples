{
 "cells": [
  {
   "cell_type": "markdown",
   "metadata": {},
   "source": [
    "# Classical Word Count\n",
    "\n",
    "The \"Hello World\" of Big Data always is counting words. As trivial as this example seems to be, it already contains many relevant principles and operations which are commonly used. So let's first buzild a word counter by following the classical \"map-reduce\" approach step by step."
   ]
  },
  {
   "cell_type": "code",
   "execution_count": 1,
   "metadata": {},
   "outputs": [],
   "source": [
    "# Load Text file from S3\n",
    "text = sc.textFile('s3://dimajix-training/data/alice/')"
   ]
  },
  {
   "cell_type": "code",
   "execution_count": 2,
   "metadata": {},
   "outputs": [],
   "source": [
    "# Split every line into words\n",
    "def split_line(line):\n",
    "    return line.split()\n",
    "\n",
    "\n",
    "words = text.flatMap(split_line)"
   ]
  },
  {
   "cell_type": "code",
   "execution_count": 4,
   "metadata": {},
   "outputs": [],
   "source": [
    "# Count every individual word\n",
    "def count_word(word):\n",
    "    return (word, 1)\n",
    "\n",
    "\n",
    "words_one = words.map(count_word)"
   ]
  },
  {
   "cell_type": "code",
   "execution_count": 7,
   "metadata": {},
   "outputs": [],
   "source": [
    "# Aggregate all counters\n",
    "def add_counts(x, y):\n",
    "    return x + y\n",
    "\n",
    "\n",
    "words_count = words_one.reduceByKey(add_counts)"
   ]
  },
  {
   "cell_type": "code",
   "execution_count": 8,
   "metadata": {},
   "outputs": [],
   "source": [
    "# Sort by word frequency\n",
    "def extract_counter(key_value):\n",
    "    return key_value[1]\n",
    "\n",
    "\n",
    "sorted_words_count = words_count.sortBy(extract_counter)"
   ]
  },
  {
   "cell_type": "code",
   "execution_count": 11,
   "metadata": {},
   "outputs": [],
   "source": [
    "# Make TSV like output\n",
    "def make_tsv(key_value):\n",
    "    return key_value[0] + '\\t' + str(key_value[1])\n",
    "\n",
    "\n",
    "tsv_result = sorted_words_count.map(make_tsv)"
   ]
  },
  {
   "cell_type": "code",
   "execution_count": 13,
   "metadata": {},
   "outputs": [],
   "source": [
    "# Save Result\n",
    "tsv_result.saveAsTextFile(\"alice_counts\")"
   ]
  },
  {
   "cell_type": "markdown",
   "metadata": {},
   "source": [
    "# Concise Formulation\n",
    "\n",
    "Exactly the same logic can be written in a much shorter representation using Python lambda expressions."
   ]
  },
  {
   "cell_type": "code",
   "execution_count": null,
   "metadata": {},
   "outputs": [],
   "source": [
    "text = sc.textFile('s3://dimajix-training/data/alice/')\n",
    "words = (\n",
    "    text.flatMap(lambda x: x.split())\n",
    "    .map(lambda x: (x, 1))\n",
    "    .reduceByKey(lambda x, y: x + y)\n",
    "    .sortBy(lambda x: x[1], ascending=False)\n",
    "    .map(lambda p: p[0] + ':' + str(p[1]))\n",
    ")\n",
    "\n",
    "words.saveAsTextFile('alice_counts')"
   ]
  }
 ],
 "metadata": {
  "anaconda-cloud": {},
  "kernelspec": {
   "display_name": "PySpark 2.1 (Python 3.5)",
   "language": "python",
   "name": "pyspark3"
  },
  "language_info": {
   "codemirror_mode": {
    "name": "ipython",
    "version": 3.0
   },
   "file_extension": ".py",
   "mimetype": "text/x-python",
   "name": "python",
   "nbconvert_exporter": "python",
   "pygments_lexer": "ipython3",
   "version": "3.5.2"
  }
 },
 "nbformat": 4,
 "nbformat_minor": 1
}
