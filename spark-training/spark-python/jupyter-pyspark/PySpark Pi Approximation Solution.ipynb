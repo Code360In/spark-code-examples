{
 "cells": [
  {
   "cell_type": "markdown",
   "metadata": {},
   "source": [
    "# Approximating Pi\n",
    "\n",
    "This random approximation of Pi simply generates uniform random points in the square [0,1] and counts the number of points which lie within a unit circle around the origin. Since this quarter circle has an area of pi/4, the ratio between the number of all generated points and the points within the quarter circle is an approximation of that area."
   ]
  },
  {
   "cell_type": "code",
   "execution_count": 2,
   "metadata": {},
   "outputs": [
    {
     "name": "stdout",
     "output_type": "stream",
     "text": [
      "3.140264\n"
     ]
    }
   ],
   "source": [
    "import random\n",
    "\n",
    "\n",
    "# Generate that many points in the unit square [0,1]x[0,1]\n",
    "n = 1000000\n",
    "\n",
    "# Create an RDD with n number of elements\n",
    "numbers = sc.range(0, n)\n",
    "\n",
    "# Map each number to a random point in the unit square using the Python function random.uniform(0,1)\n",
    "points = rdd.map(lambda x: (random.uniform(0.0, 1.0), random.uniform(0.0, 1.0)))\n",
    "\n",
    "# Find all points inside the unit square\n",
    "points_inside = points.filter(lambda p: p[0] * p[0] + p[1] * p[1] <= 1.0)\n",
    "\n",
    "# Count number of points inside\n",
    "cnt = points_inside.count()\n",
    "\n",
    "# Pi is approximately four times the ratio of points inside to the total number of points\n",
    "pi = 4 * cnt / n\n",
    "\n",
    "print(pi)"
   ]
  },
  {
   "cell_type": "code",
   "execution_count": null,
   "metadata": {},
   "outputs": [],
   "source": []
  }
 ],
 "metadata": {
  "anaconda-cloud": {},
  "kernelspec": {
   "display_name": "PySpark 2.1 (Python 3.5)",
   "language": "python",
   "name": "pyspark"
  },
  "language_info": {
   "codemirror_mode": {
    "name": "ipython",
    "version": 3.0
   },
   "file_extension": ".py",
   "mimetype": "text/x-python",
   "name": "python",
   "nbconvert_exporter": "python",
   "pygments_lexer": "ipython3",
   "version": "3.5.2"
  }
 },
 "nbformat": 4,
 "nbformat_minor": 1
}
