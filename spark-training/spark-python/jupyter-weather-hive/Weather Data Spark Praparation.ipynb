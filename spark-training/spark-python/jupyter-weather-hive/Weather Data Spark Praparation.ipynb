{
 "cells": [
  {
   "cell_type": "markdown",
   "metadata": {},
   "source": [
    "# Create Hive Tables\n",
    "\n",
    "If not already done, we first need to create some Hive tables."
   ]
  },
  {
   "cell_type": "code",
   "execution_count": 1,
   "metadata": {},
   "outputs": [
    {
     "data": {
      "text/plain": [
       "DataFrame[]"
      ]
     },
     "execution_count": 1,
     "output_type": "execute_result",
     "metadata": {}
    }
   ],
   "source": [
    "spark.sql(\n",
    "    \"\"\"\n",
    "    CREATE DATABASE IF NOT EXISTS training\n",
    "\"\"\"\n",
    ")"
   ]
  },
  {
   "cell_type": "code",
   "execution_count": null,
   "metadata": {},
   "outputs": [],
   "source": [
    "spark.sql(\n",
    "    \"\"\"\n",
    "    CREATE EXTERNAL TABLE IF NOT EXISTS training.weather_raw(data STRING) \n",
    "    PARTITIONED BY(year STRING) STORED AS TEXTFILE\n",
    "    LOCATION 's3://dimajix-training/data/weather'\n",
    "\"\"\"\n",
    ")\n",
    "\n",
    "for year in range(2005, 2014):\n",
    "    spark.sql(\n",
    "        \"\"\"\n",
    "        ALTER TABLE training.weather_raw \n",
    "        ADD PARTITION(year={year})\n",
    "        LOCATION 's3://dimajix-training/data/weather/{year}'\n",
    "    \"\"\".format(\n",
    "            year=year\n",
    "        )\n",
    "    )"
   ]
  },
  {
   "cell_type": "code",
   "execution_count": null,
   "metadata": {},
   "outputs": [],
   "source": [
    "spark.sql(\n",
    "    \"\"\"\n",
    "CREATE VIEW IF NOT EXISTS training.weather AS\n",
    "    SELECT \n",
    "        year,\n",
    "        SUBSTR(`data`,5,6) AS `usaf`,\n",
    "        SUBSTR(`data`,11,5) AS `wban`, \n",
    "        SUBSTR(`data`,16,8) AS `date`, \n",
    "        SUBSTR(`data`,24,4) AS `time`,\n",
    "        SUBSTR(`data`,42,5) AS report_type,\n",
    "        SUBSTR(`data`,61,3) AS wind_direction, \n",
    "        SUBSTR(`data`,64,1) AS wind_direction_qual, \n",
    "        SUBSTR(`data`,65,1) AS wind_observation, \n",
    "        CAST(SUBSTR(`data`,66,4) AS FLOAT)/10 AS wind_speed,\n",
    "        SUBSTR(`data`,70,1) AS wind_speed_qual,\n",
    "        CAST(SUBSTR(`data`,88,5) AS FLOAT)/10 AS air_temperature, \n",
    "        SUBSTR(`data`,93,1) AS air_temperature_qual \n",
    "    FROM training.weather_raw\n",
    "\"\"\"\n",
    ")"
   ]
  },
  {
   "cell_type": "code",
   "execution_count": null,
   "metadata": {},
   "outputs": [],
   "source": [
    "spark.sql(\n",
    "    \"\"\"\n",
    "CREATE EXTERNAL TABLE IF NOT EXISTS training.stations(\n",
    "    usaf STRING,\n",
    "    wban STRING,\n",
    "    name STRING,\n",
    "    country STRING,\n",
    "    state STRING,\n",
    "    icao STRING,\n",
    "    latitude FLOAT,\n",
    "    longitude FLOAT,\n",
    "    elevation FLOAT,\n",
    "    date_begin STRING,\n",
    "    date_end STRING) \n",
    "ROW FORMAT SERDE 'org.apache.hadoop.hive.serde2.OpenCSVSerde'\n",
    "WITH SERDEPROPERTIES (\n",
    "   \"separatorChar\" = \",\",\n",
    "   \"quoteChar\"     = \"\\\\\"\",\n",
    "   \"escapeChar\"    = \"\\\\\\\\\"\n",
    ")\n",
    "STORED AS TEXTFILE\n",
    "LOCATION 's3://dimajix-training/data/weather/isd-history'\n",
    "\"\"\"\n",
    ")"
   ]
  }
 ],
 "metadata": {
  "anaconda-cloud": {},
  "kernelspec": {
   "display_name": "PySpark 2.1 (Python 3.5)",
   "language": "python",
   "name": "pyspark3"
  },
  "language_info": {
   "codemirror_mode": {
    "name": "ipython",
    "version": 3.0
   },
   "file_extension": ".py",
   "mimetype": "text/x-python",
   "name": "python",
   "nbconvert_exporter": "python",
   "pygments_lexer": "ipython3",
   "version": "3.5.2"
  }
 },
 "nbformat": 4,
 "nbformat_minor": 1
}
