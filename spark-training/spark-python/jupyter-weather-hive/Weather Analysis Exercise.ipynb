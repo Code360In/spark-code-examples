{
 "cells": [
  {
   "cell_type": "markdown",
   "metadata": {},
   "source": [
    "# Get Data from Hive\n",
    "\n",
    "First we load the two tables 'training.weather' and 'training.stations' from Hive using the spark.read.table method. This will create DataFrames encapsulating the Hive tables."
   ]
  },
  {
   "cell_type": "code",
   "execution_count": null,
   "metadata": {},
   "outputs": [],
   "source": [
    "# Get table 'training.weather' from Hive and store it in the variable weather\n",
    "weather = ...\n",
    "# Get table 'training.stations' from Hive and store it in the variable stations\n",
    "stations = ..."
   ]
  },
  {
   "cell_type": "markdown",
   "metadata": {},
   "source": [
    "# Process Data\n",
    "\n",
    "Now we want to perform a simple analysis on the data: Calculate minimum and maximum wind speed and air temperature per country and year. This needs to be performed in three steps:\n",
    "\n",
    "1. Join weather data and stations on the columns 'usaf' and 'wban'\n",
    "2. Group the data by the relevant columns year and country\n",
    "3. Perform min/max aggregations. Also pay attentions to the fields `air_temperature_qual` and `wind_speed_qual`, where \"1\" means valid value"
   ]
  },
  {
   "cell_type": "code",
   "execution_count": null,
   "metadata": {},
   "outputs": [],
   "source": [
    "from pyspark.sql.functions import *\n",
    "\n",
    "\n",
    "df = ...  # Join weather and stations on usaf and wban\n",
    "groups = ...  # Group df by year and country\n",
    "result = (\n",
    "    ...\n",
    ")  # Aggregate min/max temperature. Note that you can also use conditional expressions via when(a == v, x).otherwise(y)\n",
    "\n",
    "# Print Results\n",
    "pdf = result.toPandas()\n",
    "pdf"
   ]
  },
  {
   "cell_type": "markdown",
   "metadata": {},
   "source": [
    "# Make a Bar Plot"
   ]
  },
  {
   "cell_type": "code",
   "execution_count": null,
   "metadata": {},
   "outputs": [],
   "source": [
    "%matplotlib inline\n",
    "p = pdf.plot(kind='bar', figsize=(20, 10), xticks=pdf.index)\n",
    "p.set_xticklabels(pdf['country'])"
   ]
  },
  {
   "cell_type": "code",
   "execution_count": null,
   "metadata": {},
   "outputs": [],
   "source": []
  }
 ],
 "metadata": {
  "kernelspec": {
   "display_name": "Python 2",
   "language": "python",
   "name": "python2"
  },
  "language_info": {
   "codemirror_mode": {
    "name": "ipython",
    "version": 2.0
   },
   "file_extension": ".py",
   "mimetype": "text/x-python",
   "name": "python",
   "nbconvert_exporter": "python",
   "pygments_lexer": "ipython2",
   "version": "2.7.11"
  }
 },
 "nbformat": 4,
 "nbformat_minor": 0
}
