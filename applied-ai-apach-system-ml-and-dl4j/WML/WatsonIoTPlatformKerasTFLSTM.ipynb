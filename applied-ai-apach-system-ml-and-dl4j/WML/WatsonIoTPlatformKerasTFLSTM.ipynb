{
 "cells": [
  {
   "cell_type": "code",
   "execution_count": null,
   "metadata": {},
   "outputs": [],
   "source": [
    "import pickle\n",
    "\n",
    "import ibmiotf.application\n",
    "import matplotlib.pyplot as plt\n",
    "import numpy as np\n",
    "import sklearn\n",
    "from keras.callbacks import Callback\n",
    "from keras.layers import LSTM, Activation, Dense\n",
    "from keras.models import Sequential\n",
    "from matplotlib import pyplot\n",
    "from mpl_toolkits.mplot3d import Axes3D\n",
    "from numpy import concatenate\n",
    "from pandas import DataFrame, concat, read_csv\n",
    "from Queue import Queue\n",
    "from sklearn.metrics import mean_squared_error\n",
    "from sklearn.preprocessing import LabelEncoder, MinMaxScaler\n",
    "\n",
    "\n",
    "%matplotlib inline"
   ]
  },
  {
   "cell_type": "code",
   "execution_count": null,
   "metadata": {},
   "outputs": [],
   "source": [
    "#!pip install keras\n",
    "#!pip install ibmiotf"
   ]
  },
  {
   "cell_type": "code",
   "execution_count": null,
   "metadata": {},
   "outputs": [],
   "source": [
    "!rm watsoniotp.*\n",
    "!wget https://raw.githubusercontent.com/romeokienzler/developerWorks/master/lorenzattractor/watsoniotp.healthy.phase_aligned.pickle\n",
    "!wget https://raw.githubusercontent.com/romeokienzler/developerWorks/master/lorenzattractor/watsoniotp.broken.phase_aligned.pickle"
   ]
  },
  {
   "cell_type": "code",
   "execution_count": null,
   "metadata": {},
   "outputs": [],
   "source": []
  },
  {
   "cell_type": "code",
   "execution_count": null,
   "metadata": {},
   "outputs": [],
   "source": [
    "data_healthy = pickle.load(open(\"watsoniotp.healthy.phase_aligned.pickle\", \"rb\"))\n",
    "data_broken = pickle.load(open(\"watsoniotp.broken.phase_aligned.pickle\", \"rb\"))"
   ]
  },
  {
   "cell_type": "code",
   "execution_count": null,
   "metadata": {},
   "outputs": [],
   "source": [
    "data_healthy = data_healthy.reshape(3000, 3)\n",
    "data_broken = data_broken.reshape(3000, 3)"
   ]
  },
  {
   "cell_type": "code",
   "execution_count": null,
   "metadata": {},
   "outputs": [],
   "source": [
    "fig, ax = plt.subplots(num=None, figsize=(14, 6), dpi=80, facecolor=\"w\", edgecolor=\"k\")\n",
    "size = len(data_healthy)\n",
    "# ax.set_ylim(0,energy.max())\n",
    "ax.plot(\n",
    "    range(0, size),\n",
    "    data_healthy[:, 0],\n",
    "    \"-\",\n",
    "    color=\"blue\",\n",
    "    animated=True,\n",
    "    linewidth=1,\n",
    ")\n",
    "ax.plot(\n",
    "    range(0, size),\n",
    "    data_healthy[:, 1],\n",
    "    \"-\",\n",
    "    color=\"red\",\n",
    "    animated=True,\n",
    "    linewidth=1,\n",
    ")\n",
    "ax.plot(\n",
    "    range(0, size),\n",
    "    data_healthy[:, 2],\n",
    "    \"-\",\n",
    "    color=\"green\",\n",
    "    animated=True,\n",
    "    linewidth=1,\n",
    ")"
   ]
  },
  {
   "cell_type": "code",
   "execution_count": null,
   "metadata": {},
   "outputs": [],
   "source": [
    "fig, ax = plt.subplots(num=None, figsize=(14, 6), dpi=80, facecolor=\"w\", edgecolor=\"k\")\n",
    "size = len(data_healthy)\n",
    "# ax.set_ylim(0,energy.max())\n",
    "ax.plot(\n",
    "    range(0, size),\n",
    "    data_broken[:, 0],\n",
    "    \"-\",\n",
    "    color=\"blue\",\n",
    "    animated=True,\n",
    "    linewidth=1,\n",
    ")\n",
    "ax.plot(\n",
    "    range(0, size),\n",
    "    data_broken[:, 1],\n",
    "    \"-\",\n",
    "    color=\"red\",\n",
    "    animated=True,\n",
    "    linewidth=1,\n",
    ")\n",
    "ax.plot(\n",
    "    range(0, size),\n",
    "    data_broken[:, 2],\n",
    "    \"-\",\n",
    "    color=\"green\",\n",
    "    animated=True,\n",
    "    linewidth=1,\n",
    ")"
   ]
  },
  {
   "cell_type": "code",
   "execution_count": null,
   "metadata": {},
   "outputs": [],
   "source": [
    "data_healthy_fft = np.fft.fft(data_healthy)\n",
    "data_broken_fft = np.fft.fft(data_broken)"
   ]
  },
  {
   "cell_type": "code",
   "execution_count": null,
   "metadata": {},
   "outputs": [],
   "source": [
    "fig, ax = plt.subplots(num=None, figsize=(14, 6), dpi=80, facecolor=\"w\", edgecolor=\"k\")\n",
    "size = len(data_healthy_fft)\n",
    "ax.plot(\n",
    "    range(0, size),\n",
    "    data_healthy_fft[:, 0].real,\n",
    "    \"-\",\n",
    "    color=\"blue\",\n",
    "    animated=True,\n",
    "    linewidth=1,\n",
    ")\n",
    "ax.plot(\n",
    "    range(0, size),\n",
    "    data_healthy_fft[:, 1].imag,\n",
    "    \"-\",\n",
    "    color=\"red\",\n",
    "    animated=True,\n",
    "    linewidth=1,\n",
    ")\n",
    "ax.plot(\n",
    "    range(0, size),\n",
    "    data_healthy_fft[:, 2].real,\n",
    "    \"-\",\n",
    "    color=\"green\",\n",
    "    animated=True,\n",
    "    linewidth=1,\n",
    ")"
   ]
  },
  {
   "cell_type": "code",
   "execution_count": null,
   "metadata": {},
   "outputs": [],
   "source": [
    "fig, ax = plt.subplots(num=None, figsize=(14, 6), dpi=80, facecolor=\"w\", edgecolor=\"k\")\n",
    "size = len(data_healthy_fft)\n",
    "ax.plot(\n",
    "    range(0, size),\n",
    "    data_broken_fft[:, 0].real,\n",
    "    \"-\",\n",
    "    color=\"blue\",\n",
    "    animated=True,\n",
    "    linewidth=1,\n",
    ")\n",
    "ax.plot(\n",
    "    range(0, size),\n",
    "    data_broken_fft[:, 1].imag,\n",
    "    \"-\",\n",
    "    color=\"red\",\n",
    "    animated=True,\n",
    "    linewidth=1,\n",
    ")\n",
    "ax.plot(\n",
    "    range(0, size),\n",
    "    data_broken_fft[:, 2].real,\n",
    "    \"-\",\n",
    "    color=\"green\",\n",
    "    animated=True,\n",
    "    linewidth=1,\n",
    ")"
   ]
  },
  {
   "cell_type": "code",
   "execution_count": null,
   "metadata": {},
   "outputs": [],
   "source": [
    "def scaleData(data):\n",
    "    # normalize features\n",
    "    scaler = MinMaxScaler(feature_range=(0, 1))\n",
    "    return scaler.fit_transform(data)"
   ]
  },
  {
   "cell_type": "code",
   "execution_count": null,
   "metadata": {},
   "outputs": [],
   "source": [
    "data_healthy_scaled = scaleData(data_healthy)\n",
    "data_broken_scaled = scaleData(data_broken)"
   ]
  },
  {
   "cell_type": "code",
   "execution_count": null,
   "metadata": {},
   "outputs": [],
   "source": [
    "timesteps = 10\n",
    "dim = 3\n",
    "samples = 3000\n",
    "data_healthy_scaled_reshaped = data_healthy_scaled\n",
    "# reshape to (300,10,3)\n",
    "data_healthy_scaled_reshaped.shape = (samples / timesteps, timesteps, dim)"
   ]
  },
  {
   "cell_type": "code",
   "execution_count": null,
   "metadata": {},
   "outputs": [],
   "source": [
    "data_healthy_scaled_reshaped.shape"
   ]
  },
  {
   "cell_type": "code",
   "execution_count": null,
   "metadata": {},
   "outputs": [],
   "source": [
    "losses = []\n",
    "\n",
    "\n",
    "def handleLoss(loss):\n",
    "    global losses\n",
    "    losses += [loss]\n",
    "    print(loss)"
   ]
  },
  {
   "cell_type": "code",
   "execution_count": null,
   "metadata": {},
   "outputs": [],
   "source": [
    "class LossHistory(Callback):\n",
    "    def on_train_begin(self, logs={}):\n",
    "        self.losses = []\n",
    "\n",
    "    def on_batch_end(self, batch, logs={}):\n",
    "        self.losses.append(logs.get(\"loss\"))\n",
    "        handleLoss(logs.get(\"loss\"))"
   ]
  },
  {
   "cell_type": "code",
   "execution_count": null,
   "metadata": {},
   "outputs": [],
   "source": [
    "# design network\n",
    "\n",
    "model = Sequential()\n",
    "model.add(LSTM(50, input_shape=(timesteps, dim), return_sequences=True))\n",
    "model.add(LSTM(50, input_shape=(timesteps, dim), return_sequences=True))\n",
    "model.add(LSTM(50, input_shape=(timesteps, dim), return_sequences=True))\n",
    "model.add(LSTM(50, input_shape=(timesteps, dim), return_sequences=True))\n",
    "model.add(LSTM(50, input_shape=(timesteps, dim), return_sequences=True))\n",
    "model.add(LSTM(50, input_shape=(timesteps, dim), return_sequences=True))\n",
    "model.add(LSTM(50, input_shape=(timesteps, dim), return_sequences=True))\n",
    "model.add(LSTM(50, input_shape=(timesteps, dim), return_sequences=True))\n",
    "model.add(LSTM(50, input_shape=(timesteps, dim), return_sequences=True))\n",
    "model.add(LSTM(50, input_shape=(timesteps, dim), return_sequences=True))\n",
    "model.add(LSTM(50, input_shape=(timesteps, dim), return_sequences=True))\n",
    "model.add(Dense(3))\n",
    "model.compile(loss=\"mae\", optimizer=\"adam\")\n",
    "\n",
    "\n",
    "def train(data):\n",
    "    data.shape = (300, 10, 3)\n",
    "    model.fit(\n",
    "        data,\n",
    "        data,\n",
    "        epochs=50,\n",
    "        batch_size=72,\n",
    "        validation_data=(data, data),\n",
    "        verbose=1,\n",
    "        shuffle=False,\n",
    "        callbacks=[LossHistory()],\n",
    "    )\n",
    "    data.shape = (3000, 3)\n",
    "\n",
    "\n",
    "def score(data):\n",
    "    data.shape = (300, 10, 3)\n",
    "    yhat = model.predict(data)\n",
    "    yhat.shape = (3000, 3)\n",
    "    return yhat"
   ]
  },
  {
   "cell_type": "code",
   "execution_count": null,
   "metadata": {},
   "outputs": [],
   "source": [
    "# some learners constantly reported 502 errors in Watson Studio.\n",
    "# This is due to the limited resources in the free tier and the heavy resource consumption of Keras.\n",
    "# This is a workaround to limit resource consumption\n",
    "\n",
    "from keras import backend as K\n",
    "\n",
    "\n",
    "K.set_session(\n",
    "    K.tf.Session(\n",
    "        config=K.tf.ConfigProto(\n",
    "            intra_op_parallelism_threads=1, inter_op_parallelism_threads=1\n",
    "        )\n",
    "    )\n",
    ")"
   ]
  },
  {
   "cell_type": "code",
   "execution_count": null,
   "metadata": {},
   "outputs": [],
   "source": [
    "for i in range(3):\n",
    "\n",
    "    print(\"----------------\")\n",
    "    train(data_healthy_scaled)\n",
    "    yhat_healthy = score(data_healthy_scaled)\n",
    "    yhat_broken = score(data_broken_scaled)\n",
    "    data_healthy_scaled.shape = (3000, 3)\n",
    "    data_broken_scaled.shape = (3000, 3)\n",
    "\n",
    "\n",
    "print(\"----------------broken\")\n",
    "train(data_broken_scaled)\n",
    "yhat_healthy = score(data_healthy_scaled)\n",
    "yhat_broken = score(data_broken_scaled)\n",
    "data_healthy_scaled.shape = (3000, 3)\n",
    "data_broken_scaled.shape = (3000, 3)"
   ]
  },
  {
   "cell_type": "code",
   "execution_count": null,
   "metadata": {},
   "outputs": [],
   "source": [
    "fig, ax = plt.subplots(num=None, figsize=(14, 6), dpi=80, facecolor=\"w\", edgecolor=\"k\")\n",
    "size = len(data_healthy_fft)\n",
    "# ax.set_ylim(0,energy.max())\n",
    "ax.plot(\n",
    "    range(0, len(losses)),\n",
    "    losses,\n",
    "    \"-\",\n",
    "    color=\"blue\",\n",
    "    animated=True,\n",
    "    linewidth=1,\n",
    ")"
   ]
  },
  {
   "cell_type": "code",
   "execution_count": null,
   "metadata": {},
   "outputs": [],
   "source": [
    "options = {\n",
    "    \"org\": \"mh741h\",\n",
    "    \"id\": \"anything\",\n",
    "    \"auth-method\": \"apikey\",\n",
    "    \"auth-key\": \"a-mh741h-hwv6qlpmsv\",\n",
    "    \"auth-token\": \"zBcbK&rKTfbW*OfneW\",\n",
    "}\n",
    "client = ibmiotf.application.Client(options)\n",
    "client.connect()"
   ]
  },
  {
   "cell_type": "code",
   "execution_count": null,
   "metadata": {},
   "outputs": [],
   "source": [
    "q = Queue(7000)"
   ]
  },
  {
   "cell_type": "code",
   "execution_count": null,
   "metadata": {},
   "outputs": [],
   "source": [
    "def myEventCallback(event):\n",
    "    sample = event.data\n",
    "    point = [sample[\"x\"], sample[\"y\"], sample[\"z\"]]\n",
    "    q.put(point)\n",
    "\n",
    "\n",
    "client.deviceEventCallback = myEventCallback\n",
    "client.subscribeToDeviceEvents(\"0.16.2\", \"lorenz\", \"osc\")"
   ]
  },
  {
   "cell_type": "code",
   "execution_count": null,
   "metadata": {},
   "outputs": [],
   "source": [
    "def doNN(data):\n",
    "    data_scaled = scaleData(data)\n",
    "    train(data_scaled)\n",
    "    yhat = score(data_scaled)\n",
    "    data_scaled.shape = (3000, 3)"
   ]
  },
  {
   "cell_type": "code",
   "execution_count": null,
   "metadata": {},
   "outputs": [],
   "source": [
    "def handleLoss(loss):\n",
    "    myData = {\"loss\": str(loss)}\n",
    "    client.publishEvent(\"0.16.2\", \"lorenz\", \"status\", \"json\", myData)"
   ]
  },
  {
   "cell_type": "code",
   "execution_count": null,
   "metadata": {},
   "outputs": [],
   "source": [
    "import numpy as np\n",
    "\n",
    "\n",
    "while True:\n",
    "    while not q.empty():\n",
    "        point = q.get()\n",
    "        try:\n",
    "            data\n",
    "        except NameError:\n",
    "            data = np.array(point)\n",
    "        else:\n",
    "            data = np.append(data, point)\n",
    "        if data.size >= 9000:\n",
    "            data = np.reshape(data, (3000, 3))\n",
    "            print(data)\n",
    "            doNN(data)\n",
    "            del data"
   ]
  },
  {
   "cell_type": "code",
   "execution_count": null,
   "metadata": {},
   "outputs": [],
   "source": [
    "q.qsize()"
   ]
  },
  {
   "cell_type": "code",
   "execution_count": null,
   "metadata": {},
   "outputs": [],
   "source": [
    "del data"
   ]
  },
  {
   "cell_type": "code",
   "execution_count": null,
   "metadata": {},
   "outputs": [],
   "source": [
    "data.size"
   ]
  },
  {
   "cell_type": "code",
   "execution_count": null,
   "metadata": {},
   "outputs": [],
   "source": [
    "!pip install h5py"
   ]
  },
  {
   "cell_type": "code",
   "execution_count": null,
   "metadata": {},
   "outputs": [],
   "source": [
    "import paho.mqtt.client as mqtt"
   ]
  },
  {
   "cell_type": "code",
   "execution_count": null,
   "metadata": {},
   "outputs": [],
   "source": [
    "def on_message(client, userdata, message):\n",
    "    raw = message.payload.decode(\"utf-8\")\n",
    "    sample = json.loads(raw)\n",
    "    point = [sample[\"x\"], sample[\"y\"], sample[\"z\"]]\n",
    "    q.put(point)\n",
    "\n",
    "\n",
    "client = mqtt.Client()\n",
    "client.connect(\"localhost\", 1883, 60)\n",
    "client.on_message = on_message\n",
    "client.subscribe(\"lorenz\")\n",
    "client.loop_start()"
   ]
  },
  {
   "cell_type": "code",
   "execution_count": null,
   "metadata": {},
   "outputs": [],
   "source": [
    "import json"
   ]
  },
  {
   "cell_type": "code",
   "execution_count": null,
   "metadata": {},
   "outputs": [],
   "source": [
    "q.qsize()"
   ]
  },
  {
   "cell_type": "code",
   "execution_count": null,
   "metadata": {},
   "outputs": [],
   "source": [
    "point[\"x\"]"
   ]
  },
  {
   "cell_type": "code",
   "execution_count": null,
   "metadata": {},
   "outputs": [],
   "source": [
    "client.disconnect()  # disconnect\n",
    "client.loop_stop()  # stop loop"
   ]
  },
  {
   "cell_type": "code",
   "execution_count": null,
   "metadata": {},
   "outputs": [],
   "source": [
    "client.publish(\"mytopic/can/be/nested\", \"anything will do incl. binary\")"
   ]
  },
  {
   "cell_type": "code",
   "execution_count": null,
   "metadata": {},
   "outputs": [],
   "source": [
    "!echo $MASTER"
   ]
  },
  {
   "cell_type": "code",
   "execution_count": null,
   "metadata": {},
   "outputs": [],
   "source": []
  }
 ],
 "metadata": {
  "kernelspec": {
   "display_name": "Python 3",
   "language": "python",
   "name": "python3"
  },
  "language_info": {
   "codemirror_mode": {
    "name": "ipython",
    "version": 3
   },
   "file_extension": ".py",
   "mimetype": "text/x-python",
   "name": "python",
   "nbconvert_exporter": "python",
   "pygments_lexer": "ipython3",
   "version": "3.8.6"
  }
 },
 "nbformat": 4,
 "nbformat_minor": 1
}
